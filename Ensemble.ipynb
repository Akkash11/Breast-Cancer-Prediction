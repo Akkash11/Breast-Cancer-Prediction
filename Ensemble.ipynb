git init 
git add cancer prediction project.ipynb
git commit -m "notebook first commit" 
git remote add origin https://github.com/Akkash11/Breast-Cancer-Prediction/edit/main/Ensemble.ipynb
git push -u origin master
