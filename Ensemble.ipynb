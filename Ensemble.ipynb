git init 
git add cancer prediction project.ipynb
git commit -m "notebook first commit" 
git remote add origin https://github.com/breast cancer predicton/cancer prediction project.git 
git push -u origin master
