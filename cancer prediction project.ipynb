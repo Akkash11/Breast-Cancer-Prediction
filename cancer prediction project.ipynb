{
 "cells": [
  {
   "cell_type": "code",
   "execution_count": 1,
   "id": "7335bc67",
   "metadata": {},
   "outputs": [],
   "source": [
    "import os\n",
    "import numpy as np \n",
    "import pandas as pd\n",
    "import matplotlib.pyplot as plt\n",
    "import seaborn as sns\n",
    "from sklearn import svm \n",
    "from sklearn import metrics\n",
    "from sklearn.model_selection import train_test_split\n",
    "from sklearn.preprocessing import StandardScaler, MinMaxScaler\n",
    "from sklearn.ensemble import RandomForestClassifier\n",
    "from sklearn.ensemble import BaggingClassifier\n",
    "from sklearn.ensemble import AdaBoostClassifier"
   ]
  },
  {
   "cell_type": "code",
   "execution_count": 8,
   "id": "e766b9f5",
   "metadata": {},
   "outputs": [],
   "source": [
    "os.chdir(r'C:\\Users\\Akkash\\Downloads')"
   ]
  },
  {
   "cell_type": "code",
   "execution_count": 9,
   "id": "3cfef17d",
   "metadata": {},
   "outputs": [
    {
     "data": {
      "text/plain": [
       "['.ipynb_checkpoints',\n",
       " '01.py',\n",
       
      ]
     },
     "execution_count": 9,
     "metadata": {},
     "output_type": "execute_result"
    }
   ],
   "source": [
    "os.listdir()"
   ]
  },
  {
   "cell_type": "code",
   "execution_count": 10,
   "id": "e47c509a",
   "metadata": {},
   "outputs": [
    {
     "data": {
      "text/html": [
       "<div>\n",
       "<style scoped>\n",
       "    .dataframe tbody tr th:only-of-type {\n",
       "        vertical-align: middle;\n",
       "    }\n",
       "\n",
       "    .dataframe tbody tr th {\n",
       "        vertical-align: top;\n",
       "    }\n",
       "\n",
       "    .dataframe thead th {\n",
       "        text-align: right;\n",
       "    }\n",
       "</style>\n",
       "<table border=\"1\" class=\"dataframe\">\n",
       "  <thead>\n",
       "    <tr style=\"text-align: right;\">\n",
       "      <th></th>\n",
       "      <th>id</th>\n",
       "      <th>diagnosis</th>\n",
       "      <th>radius_mean</th>\n",
       "      <th>texture_mean</th>\n",
       "      <th>perimeter_mean</th>\n",
       "      <th>area_mean</th>\n",
       "      <th>smoothness_mean</th>\n",
       "      <th>compactness_mean</th>\n",
       "      <th>concavity_mean</th>\n",
       "      <th>concave points_mean</th>\n",
       "      <th>...</th>\n",
       "      <th>texture_worst</th>\n",
       "      <th>perimeter_worst</th>\n",
       "      <th>area_worst</th>\n",
       "      <th>smoothness_worst</th>\n",
       "      <th>compactness_worst</th>\n",
       "      <th>concavity_worst</th>\n",
       "      <th>concave points_worst</th>\n",
       "      <th>symmetry_worst</th>\n",
       "      <th>fractal_dimension_worst</th>\n",
       "      <th>Unnamed: 32</th>\n",
       "    </tr>\n",
       "  </thead>\n",
       "  <tbody>\n",
       "    <tr>\n",
       "      <th>0</th>\n",
       "      <td>842302</td>\n",
       "      <td>M</td>\n",
       "      <td>17.99</td>\n",
       "      <td>10.38</td>\n",
       "      <td>122.80</td>\n",
       "      <td>1001.0</td>\n",
       "      <td>0.11840</td>\n",
       "      <td>0.27760</td>\n",
       "      <td>0.3001</td>\n",
       "      <td>0.14710</td>\n",
       "      <td>...</td>\n",
       "      <td>17.33</td>\n",
       "      <td>184.60</td>\n",
       "      <td>2019.0</td>\n",
       "      <td>0.1622</td>\n",
       "      <td>0.6656</td>\n",
       "      <td>0.7119</td>\n",
       "      <td>0.2654</td>\n",
       "      <td>0.4601</td>\n",
       "      <td>0.11890</td>\n",
       "      <td>NaN</td>\n",
       "    </tr>\n",
       "    <tr>\n",
       "      <th>1</th>\n",
       "      <td>842517</td>\n",
       "      <td>M</td>\n",
       "      <td>20.57</td>\n",
       "      <td>17.77</td>\n",
       "      <td>132.90</td>\n",
       "      <td>1326.0</td>\n",
       "      <td>0.08474</td>\n",
       "      <td>0.07864</td>\n",
       "      <td>0.0869</td>\n",
       "      <td>0.07017</td>\n",
       "      <td>...</td>\n",
       "      <td>23.41</td>\n",
       "      <td>158.80</td>\n",
       "      <td>1956.0</td>\n",
       "      <td>0.1238</td>\n",
       "      <td>0.1866</td>\n",
       "      <td>0.2416</td>\n",
       "      <td>0.1860</td>\n",
       "      <td>0.2750</td>\n",
       "      <td>0.08902</td>\n",
       "      <td>NaN</td>\n",
       "    </tr>\n",
       "    <tr>\n",
       "      <th>2</th>\n",
       "      <td>84300903</td>\n",
       "      <td>M</td>\n",
       "      <td>19.69</td>\n",
       "      <td>21.25</td>\n",
       "      <td>130.00</td>\n",
       "      <td>1203.0</td>\n",
       "      <td>0.10960</td>\n",
       "      <td>0.15990</td>\n",
       "      <td>0.1974</td>\n",
       "      <td>0.12790</td>\n",
       "      <td>...</td>\n",
       "      <td>25.53</td>\n",
       "      <td>152.50</td>\n",
       "      <td>1709.0</td>\n",
       "      <td>0.1444</td>\n",
       "      <td>0.4245</td>\n",
       "      <td>0.4504</td>\n",
       "      <td>0.2430</td>\n",
       "      <td>0.3613</td>\n",
       "      <td>0.08758</td>\n",
       "      <td>NaN</td>\n",
       "    </tr>\n",
       "    <tr>\n",
       "      <th>3</th>\n",
       "      <td>84348301</td>\n",
       "      <td>M</td>\n",
       "      <td>11.42</td>\n",
       "      <td>20.38</td>\n",
       "      <td>77.58</td>\n",
       "      <td>386.1</td>\n",
       "      <td>0.14250</td>\n",
       "      <td>0.28390</td>\n",
       "      <td>0.2414</td>\n",
       "      <td>0.10520</td>\n",
       "      <td>...</td>\n",
       "      <td>26.50</td>\n",
       "      <td>98.87</td>\n",
       "      <td>567.7</td>\n",
       "      <td>0.2098</td>\n",
       "      <td>0.8663</td>\n",
       "      <td>0.6869</td>\n",
       "      <td>0.2575</td>\n",
       "      <td>0.6638</td>\n",
       "      <td>0.17300</td>\n",
       "      <td>NaN</td>\n",
       "    </tr>\n",
       "    <tr>\n",
       "      <th>4</th>\n",
       "      <td>84358402</td>\n",
       "      <td>M</td>\n",
       "      <td>20.29</td>\n",
       "      <td>14.34</td>\n",
       "      <td>135.10</td>\n",
       "      <td>1297.0</td>\n",
       "      <td>0.10030</td>\n",
       "      <td>0.13280</td>\n",
       "      <td>0.1980</td>\n",
       "      <td>0.10430</td>\n",
       "      <td>...</td>\n",
       "      <td>16.67</td>\n",
       "      <td>152.20</td>\n",
       "      <td>1575.0</td>\n",
       "      <td>0.1374</td>\n",
       "      <td>0.2050</td>\n",
       "      <td>0.4000</td>\n",
       "      <td>0.1625</td>\n",
       "      <td>0.2364</td>\n",
       "      <td>0.07678</td>\n",
       "      <td>NaN</td>\n",
       "    </tr>\n",
       "  </tbody>\n",
       "</table>\n",
       "<p>5 rows × 33 columns</p>\n",
       "</div>"
      ],
      "text/plain": [
       "         id diagnosis  radius_mean  texture_mean  perimeter_mean  area_mean  \\\n",
       "0    842302         M        17.99         10.38          122.80     1001.0   \n",
       "1    842517         M        20.57         17.77          132.90     1326.0   \n",
       "2  84300903         M        19.69         21.25          130.00     1203.0   \n",
       "3  84348301         M        11.42         20.38           77.58      386.1   \n",
       "4  84358402         M        20.29         14.34          135.10     1297.0   \n",
       "\n",
       "   smoothness_mean  compactness_mean  concavity_mean  concave points_mean  \\\n",
       "0          0.11840           0.27760          0.3001              0.14710   \n",
       "1          0.08474           0.07864          0.0869              0.07017   \n",
       "2          0.10960           0.15990          0.1974              0.12790   \n",
       "3          0.14250           0.28390          0.2414              0.10520   \n",
       "4          0.10030           0.13280          0.1980              0.10430   \n",
       "\n",
       "   ...  texture_worst  perimeter_worst  area_worst  smoothness_worst  \\\n",
       "0  ...          17.33           184.60      2019.0            0.1622   \n",
       "1  ...          23.41           158.80      1956.0            0.1238   \n",
       "2  ...          25.53           152.50      1709.0            0.1444   \n",
       "3  ...          26.50            98.87       567.7            0.2098   \n",
       "4  ...          16.67           152.20      1575.0            0.1374   \n",
       "\n",
       "   compactness_worst  concavity_worst  concave points_worst  symmetry_worst  \\\n",
       "0             0.6656           0.7119                0.2654          0.4601   \n",
       "1             0.1866           0.2416                0.1860          0.2750   \n",
       "2             0.4245           0.4504                0.2430          0.3613   \n",
       "3             0.8663           0.6869                0.2575          0.6638   \n",
       "4             0.2050           0.4000                0.1625          0.2364   \n",
       "\n",
       "   fractal_dimension_worst  Unnamed: 32  \n",
       "0                  0.11890          NaN  \n",
       "1                  0.08902          NaN  \n",
       "2                  0.08758          NaN  \n",
       "3                  0.17300          NaN  \n",
       "4                  0.07678          NaN  \n",
       "\n",
       "[5 rows x 33 columns]"
      ]
     },
     "execution_count": 10,
     "metadata": {},
     "output_type": "execute_result"
    }
   ],
   "source": [
    "cancer = pd.read_csv('cancer.csv')\n",
    "cancer.head()"
   ]
  },
  {
   "cell_type": "code",
   "execution_count": 11,
   "id": "36a9eb5e",
   "metadata": {},
   "outputs": [
    {
     "name": "stdout",
     "output_type": "stream",
     "text": [
      "<class 'pandas.core.frame.DataFrame'>\n",
      "RangeIndex: 569 entries, 0 to 568\n",
      "Data columns (total 33 columns):\n",
      " #   Column                   Non-Null Count  Dtype  \n",
      "---  ------                   --------------  -----  \n",
      " 0   id                       569 non-null    int64  \n",
      " 1   diagnosis                569 non-null    object \n",
      " 2   radius_mean              569 non-null    float64\n",
      " 3   texture_mean             569 non-null    float64\n",
      " 4   perimeter_mean           569 non-null    float64\n",
      " 5   area_mean                569 non-null    float64\n",
      " 6   smoothness_mean          569 non-null    float64\n",
      " 7   compactness_mean         569 non-null    float64\n",
      " 8   concavity_mean           569 non-null    float64\n",
      " 9   concave points_mean      569 non-null    float64\n",
      " 10  symmetry_mean            569 non-null    float64\n",
      " 11  fractal_dimension_mean   569 non-null    float64\n",
      " 12  radius_se                569 non-null    float64\n",
      " 13  texture_se               569 non-null    float64\n",
      " 14  perimeter_se             569 non-null    float64\n",
      " 15  area_se                  569 non-null    float64\n",
      " 16  smoothness_se            569 non-null    float64\n",
      " 17  compactness_se           569 non-null    float64\n",
      " 18  concavity_se             569 non-null    float64\n",
      " 19  concave points_se        569 non-null    float64\n",
      " 20  symmetry_se              569 non-null    float64\n",
      " 21  fractal_dimension_se     569 non-null    float64\n",
      " 22  radius_worst             569 non-null    float64\n",
      " 23  texture_worst            569 non-null    float64\n",
      " 24  perimeter_worst          569 non-null    float64\n",
      " 25  area_worst               569 non-null    float64\n",
      " 26  smoothness_worst         569 non-null    float64\n",
      " 27  compactness_worst        569 non-null    float64\n",
      " 28  concavity_worst          569 non-null    float64\n",
      " 29  concave points_worst     569 non-null    float64\n",
      " 30  symmetry_worst           569 non-null    float64\n",
      " 31  fractal_dimension_worst  569 non-null    float64\n",
      " 32  Unnamed: 32              0 non-null      float64\n",
      "dtypes: float64(31), int64(1), object(1)\n",
      "memory usage: 146.8+ KB\n"
     ]
    }
   ],
   "source": [
    "cancer.info()"
   ]
  },
  {
   "cell_type": "code",
   "execution_count": 12,
   "id": "839cffd1",
   "metadata": {},
   "outputs": [
    {
     "data": {
      "text/plain": [
       "float64    31\n",
       "int64       1\n",
       "object      1\n",
       "dtype: int64"
      ]
     },
     "execution_count": 12,
     "metadata": {},
     "output_type": "execute_result"
    }
   ],
   "source": [
    "cancer.dtypes.value_counts()"
   ]
  },
  {
   "cell_type": "code",
   "execution_count": 13,
   "id": "5e328519",
   "metadata": {},
   "outputs": [
    {
     "data": {
      "text/plain": [
       "(569, 33)"
      ]
     },
     "execution_count": 13,
     "metadata": {},
     "output_type": "execute_result"
    }
   ],
   "source": [
    "cancer.shape"
   ]
  },
  {
   "cell_type": "code",
   "execution_count": 14,
   "id": "81da0153",
   "metadata": {},
   "outputs": [
    {
     "data": {
      "text/plain": [
       "id                           0\n",
       "diagnosis                    0\n",
       "radius_mean                  0\n",
       "texture_mean                 0\n",
       "perimeter_mean               0\n",
       "area_mean                    0\n",
       "smoothness_mean              0\n",
       "compactness_mean             0\n",
       "concavity_mean               0\n",
       "concave points_mean          0\n",
       "symmetry_mean                0\n",
       "fractal_dimension_mean       0\n",
       "radius_se                    0\n",
       "texture_se                   0\n",
       "perimeter_se                 0\n",
       "area_se                      0\n",
       "smoothness_se                0\n",
       "compactness_se               0\n",
       "concavity_se                 0\n",
       "concave points_se            0\n",
       "symmetry_se                  0\n",
       "fractal_dimension_se         0\n",
       "radius_worst                 0\n",
       "texture_worst                0\n",
       "perimeter_worst              0\n",
       "area_worst                   0\n",
       "smoothness_worst             0\n",
       "compactness_worst            0\n",
       "concavity_worst              0\n",
       "concave points_worst         0\n",
       "symmetry_worst               0\n",
       "fractal_dimension_worst      0\n",
       "Unnamed: 32                569\n",
       "dtype: int64"
      ]
     },
     "execution_count": 14,
     "metadata": {},
     "output_type": "execute_result"
    }
   ],
   "source": [
    "cancer.isnull().sum()"
   ]
  },
  {
   "cell_type": "code",
   "execution_count": 15,
   "id": "5d2de69d",
   "metadata": {},
   "outputs": [],
   "source": [
    "cancer.drop(['Unnamed: 32', 'id'], axis = 1, inplace = True)"
   ]
  },
  {
   "cell_type": "code",
   "execution_count": 16,
   "id": "6bc3e8e8",
   "metadata": {},
   "outputs": [
    {
     "data": {
      "text/plain": [
       "array(['M', 'B'], dtype=object)"
      ]
     },
     "execution_count": 16,
     "metadata": {},
     "output_type": "execute_result"
    }
   ],
   "source": [
    "# Target Variable\n",
    "cancer['diagnosis'].unique()\n",
    "# B=patient has no cancer, M=patient has cancer"
   ]
  },
  {
   "cell_type": "code",
   "execution_count": 17,
   "id": "b478e84a",
   "metadata": {},
   "outputs": [],
   "source": [
    "# Replace B with 0 and M with 1\n",
    "cancer['diagnosis'].replace({'B' : '0', 'M' : '1'}, inplace = True)"
   ]
  },
  {
   "cell_type": "code",
   "execution_count": 18,
   "id": "81372fee",
   "metadata": {},
   "outputs": [
    {
     "data": {
      "image/png": "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\n",
      "text/plain": [
       "<Figure size 500x500 with 1 Axes>"
      ]
     },
     "metadata": {},
     "output_type": "display_data"
    }
   ],
   "source": [
    "cancer['diagnosis'].value_counts().plot(kind = 'pie', autopct = '%0.2f%%', figsize = [5,5], explode = [0,0.05],\n",
    "                                       colors = ['#CAFF70', '#AB82FF'], shadow = True)\n",
    "plt.show()"
   ]
  },
  {
   "cell_type": "code",
   "execution_count": 19,
   "id": "aeb363fe",
   "metadata": {},
   "outputs": [
    {
     "data": {
      "text/plain": [
       "Index(['diagnosis', 'radius_mean', 'texture_mean', 'perimeter_mean',\n",
       "       'area_mean', 'smoothness_mean', 'compactness_mean', 'concavity_mean',\n",
       "       'concave points_mean', 'symmetry_mean', 'fractal_dimension_mean',\n",
       "       'radius_se', 'texture_se', 'perimeter_se', 'area_se', 'smoothness_se',\n",
       "       'compactness_se', 'concavity_se', 'concave points_se', 'symmetry_se',\n",
       "       'fractal_dimension_se', 'radius_worst', 'texture_worst',\n",
       "       'perimeter_worst', 'area_worst', 'smoothness_worst',\n",
       "       'compactness_worst', 'concavity_worst', 'concave points_worst',\n",
       "       'symmetry_worst', 'fractal_dimension_worst'],\n",
       "      dtype='object')"
      ]
     },
     "execution_count": 19,
     "metadata": {},
     "output_type": "execute_result"
    }
   ],
   "source": [
    "cancer.columns"
   ]
  },
  {
   "cell_type": "code",
   "execution_count": 20,
   "id": "208d179b",
   "metadata": {},
   "outputs": [
    {
     "name": "stderr",
     "output_type": "stream",
     "text": [
      "C:\\Users\\Akkash\\AppData\\Local\\Temp\\ipykernel_4180\\3561394430.py:2: FutureWarning: The default value of numeric_only in DataFrame.corr is deprecated. In a future version, it will default to False. Select only valid columns or specify the value of numeric_only to silence this warning.\n",
      "  corr = cancer.corr()\n"
     ]
    },
    {
     "data": {
      "image/png": "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\n",
      "text/plain": [
       "<Figure size 1500x1000 with 2 Axes>"
      ]
     },
     "metadata": {},
     "output_type": "display_data"
    }
   ],
   "source": [
    "# Checking correlation\n",
    "corr = cancer.corr()\n",
    "kot = corr[corr>=.7]\n",
    "plt.figure(figsize = [15,10])\n",
    "sns.heatmap(kot, annot = True, cmap = 'YlOrRd', fmt = '0.2f')\n",
    "plt.show()"
   ]
  },
  {
   "cell_type": "code",
   "execution_count": 22,
   "id": "7b02ddd5",
   "metadata": {},
   "outputs": [
    {
     "data": {
      "text/html": [
       "<div>\n",
       "<style scoped>\n",
       "    .dataframe tbody tr th:only-of-type {\n",
       "        vertical-align: middle;\n",
       "    }\n",
       "\n",
       "    .dataframe tbody tr th {\n",
       "        vertical-align: top;\n",
       "    }\n",
       "\n",
       "    .dataframe thead th {\n",
       "        text-align: right;\n",
       "    }\n",
       "</style>\n",
       "<table border=\"1\" class=\"dataframe\">\n",
       "  <thead>\n",
       "    <tr style=\"text-align: right;\">\n",
       "      <th></th>\n",
       "      <th>count</th>\n",
       "      <th>mean</th>\n",
       "      <th>std</th>\n",
       "      <th>min</th>\n",
       "      <th>1%</th>\n",
       "      <th>2%</th>\n",
       "      <th>3%</th>\n",
       "      <th>4%</th>\n",
       "      <th>5%</th>\n",
       "      <th>25%</th>\n",
       "      <th>50%</th>\n",
       "      <th>75%</th>\n",
       "      <th>95%</th>\n",
       "      <th>96%</th>\n",
       "      <th>97%</th>\n",
       "      <th>98%</th>\n",
       "      <th>99%</th>\n",
       "      <th>max</th>\n",
       "    </tr>\n",
       "  </thead>\n",
       "  <tbody>\n",
       "    <tr>\n",
       "      <th>radius_mean</th>\n",
       "      <td>569.0</td>\n",
       "      <td>14.127292</td>\n",
       "      <td>3.524049</td>\n",
       "      <td>6.981000</td>\n",
       "      <td>8.458360</td>\n",
       "      <td>8.728880</td>\n",
       "      <td>9.029520</td>\n",
       "      <td>9.379080</td>\n",
       "      <td>9.529200</td>\n",
       "      <td>11.700000</td>\n",
       "      <td>13.370000</td>\n",
       "      <td>15.780000</td>\n",
       "      <td>20.576000</td>\n",
       "      <td>20.925600</td>\n",
       "      <td>21.552400</td>\n",
       "      <td>22.794800</td>\n",
       "      <td>24.371600</td>\n",
       "      <td>28.11000</td>\n",
       "    </tr>\n",
       "    <tr>\n",
       "      <th>texture_mean</th>\n",
       "      <td>569.0</td>\n",
       "      <td>19.289649</td>\n",
       "      <td>4.301036</td>\n",
       "      <td>9.710000</td>\n",
       "      <td>10.930400</td>\n",
       "      <td>12.188000</td>\n",
       "      <td>12.711200</td>\n",
       "      <td>12.901600</td>\n",
       "      <td>13.088000</td>\n",
       "      <td>16.170000</td>\n",
       "      <td>18.840000</td>\n",
       "      <td>21.800000</td>\n",
       "      <td>27.150000</td>\n",
       "      <td>27.922000</td>\n",
       "      <td>28.209600</td>\n",
       "      <td>29.315600</td>\n",
       "      <td>30.652000</td>\n",
       "      <td>39.28000</td>\n",
       "    </tr>\n",
       "    <tr>\n",
       "      <th>perimeter_mean</th>\n",
       "      <td>569.0</td>\n",
       "      <td>91.969033</td>\n",
       "      <td>24.298981</td>\n",
       "      <td>43.790000</td>\n",
       "      <td>53.827600</td>\n",
       "      <td>55.475200</td>\n",
       "      <td>58.798800</td>\n",
       "      <td>59.800400</td>\n",
       "      <td>60.496000</td>\n",
       "      <td>75.170000</td>\n",
       "      <td>86.240000</td>\n",
       "      <td>104.100000</td>\n",
       "      <td>135.820000</td>\n",
       "      <td>139.236000</td>\n",
       "      <td>142.988000</td>\n",
       "      <td>152.100000</td>\n",
       "      <td>165.724000</td>\n",
       "      <td>188.50000</td>\n",
       "    </tr>\n",
       "    <tr>\n",
       "      <th>area_mean</th>\n",
       "      <td>569.0</td>\n",
       "      <td>654.889104</td>\n",
       "      <td>351.914129</td>\n",
       "      <td>143.500000</td>\n",
       "      <td>215.664000</td>\n",
       "      <td>232.124000</td>\n",
       "      <td>246.396000</td>\n",
       "      <td>267.456000</td>\n",
       "      <td>275.780000</td>\n",
       "      <td>420.300000</td>\n",
       "      <td>551.100000</td>\n",
       "      <td>782.700000</td>\n",
       "      <td>1309.800000</td>\n",
       "      <td>1351.760000</td>\n",
       "      <td>1418.520000</td>\n",
       "      <td>1625.360000</td>\n",
       "      <td>1786.600000</td>\n",
       "      <td>2501.00000</td>\n",
       "    </tr>\n",
       "    <tr>\n",
       "      <th>smoothness_mean</th>\n",
       "      <td>569.0</td>\n",
       "      <td>0.096360</td>\n",
       "      <td>0.014064</td>\n",
       "      <td>0.052630</td>\n",
       "      <td>0.068654</td>\n",
       "      <td>0.070126</td>\n",
       "      <td>0.073512</td>\n",
       "      <td>0.074346</td>\n",
       "      <td>0.075042</td>\n",
       "      <td>0.086370</td>\n",
       "      <td>0.095870</td>\n",
       "      <td>0.105300</td>\n",
       "      <td>0.118780</td>\n",
       "      <td>0.121656</td>\n",
       "      <td>0.123696</td>\n",
       "      <td>0.126724</td>\n",
       "      <td>0.132888</td>\n",
       "      <td>0.16340</td>\n",
       "    </tr>\n",
       "    <tr>\n",
       "      <th>compactness_mean</th>\n",
       "      <td>569.0</td>\n",
       "      <td>0.104341</td>\n",
       "      <td>0.052813</td>\n",
       "      <td>0.019380</td>\n",
       "      <td>0.033351</td>\n",
       "      <td>0.035884</td>\n",
       "      <td>0.037663</td>\n",
       "      <td>0.038614</td>\n",
       "      <td>0.040660</td>\n",
       "      <td>0.064920</td>\n",
       "      <td>0.092630</td>\n",
       "      <td>0.130400</td>\n",
       "      <td>0.208700</td>\n",
       "      <td>0.219392</td>\n",
       "      <td>0.227452</td>\n",
       "      <td>0.240688</td>\n",
       "      <td>0.277192</td>\n",
       "      <td>0.34540</td>\n",
       "    </tr>\n",
       "    <tr>\n",
       "      <th>concavity_mean</th>\n",
       "      <td>569.0</td>\n",
       "      <td>0.088799</td>\n",
       "      <td>0.079720</td>\n",
       "      <td>0.000000</td>\n",
       "      <td>0.000000</td>\n",
       "      <td>0.000000</td>\n",
       "      <td>0.001489</td>\n",
       "      <td>0.002677</td>\n",
       "      <td>0.004983</td>\n",
       "      <td>0.029560</td>\n",
       "      <td>0.061540</td>\n",
       "      <td>0.130700</td>\n",
       "      <td>0.243020</td>\n",
       "      <td>0.254640</td>\n",
       "      <td>0.286856</td>\n",
       "      <td>0.317528</td>\n",
       "      <td>0.351688</td>\n",
       "      <td>0.42680</td>\n",
       "    </tr>\n",
       "    <tr>\n",
       "      <th>concave points_mean</th>\n",
       "      <td>569.0</td>\n",
       "      <td>0.048919</td>\n",
       "      <td>0.038803</td>\n",
       "      <td>0.000000</td>\n",
       "      <td>0.000000</td>\n",
       "      <td>0.000000</td>\n",
       "      <td>0.003130</td>\n",
       "      <td>0.004874</td>\n",
       "      <td>0.005621</td>\n",
       "      <td>0.020310</td>\n",
       "      <td>0.033500</td>\n",
       "      <td>0.074000</td>\n",
       "      <td>0.125740</td>\n",
       "      <td>0.131336</td>\n",
       "      <td>0.146664</td>\n",
       "      <td>0.150292</td>\n",
       "      <td>0.164208</td>\n",
       "      <td>0.20120</td>\n",
       "    </tr>\n",
       "    <tr>\n",
       "      <th>symmetry_mean</th>\n",
       "      <td>569.0</td>\n",
       "      <td>0.181162</td>\n",
       "      <td>0.027414</td>\n",
       "      <td>0.106000</td>\n",
       "      <td>0.129508</td>\n",
       "      <td>0.134936</td>\n",
       "      <td>0.137308</td>\n",
       "      <td>0.138772</td>\n",
       "      <td>0.141500</td>\n",
       "      <td>0.161900</td>\n",
       "      <td>0.179200</td>\n",
       "      <td>0.195700</td>\n",
       "      <td>0.230720</td>\n",
       "      <td>0.237584</td>\n",
       "      <td>0.239796</td>\n",
       "      <td>0.253188</td>\n",
       "      <td>0.259564</td>\n",
       "      <td>0.30400</td>\n",
       "    </tr>\n",
       "    <tr>\n",
       "      <th>fractal_dimension_mean</th>\n",
       "      <td>569.0</td>\n",
       "      <td>0.062798</td>\n",
       "      <td>0.007060</td>\n",
       "      <td>0.049960</td>\n",
       "      <td>0.051504</td>\n",
       "      <td>0.052473</td>\n",
       "      <td>0.053072</td>\n",
       "      <td>0.053394</td>\n",
       "      <td>0.053926</td>\n",
       "      <td>0.057700</td>\n",
       "      <td>0.061540</td>\n",
       "      <td>0.066120</td>\n",
       "      <td>0.076090</td>\n",
       "      <td>0.077114</td>\n",
       "      <td>0.078173</td>\n",
       "      <td>0.080831</td>\n",
       "      <td>0.085438</td>\n",
       "      <td>0.09744</td>\n",
       "    </tr>\n",
       "    <tr>\n",
       "      <th>radius_se</th>\n",
       "      <td>569.0</td>\n",
       "      <td>0.405172</td>\n",
       "      <td>0.277313</td>\n",
       "      <td>0.111500</td>\n",
       "      <td>0.119740</td>\n",
       "      <td>0.136488</td>\n",
       "      <td>0.148556</td>\n",
       "      <td>0.154856</td>\n",
       "      <td>0.160100</td>\n",
       "      <td>0.232400</td>\n",
       "      <td>0.324200</td>\n",
       "      <td>0.478900</td>\n",
       "      <td>0.959520</td>\n",
       "      <td>0.996256</td>\n",
       "      <td>1.057520</td>\n",
       "      <td>1.170200</td>\n",
       "      <td>1.291320</td>\n",
       "      <td>2.87300</td>\n",
       "    </tr>\n",
       "    <tr>\n",
       "      <th>texture_se</th>\n",
       "      <td>569.0</td>\n",
       "      <td>1.216853</td>\n",
       "      <td>0.551648</td>\n",
       "      <td>0.360200</td>\n",
       "      <td>0.410548</td>\n",
       "      <td>0.469576</td>\n",
       "      <td>0.489264</td>\n",
       "      <td>0.502348</td>\n",
       "      <td>0.540140</td>\n",
       "      <td>0.833900</td>\n",
       "      <td>1.108000</td>\n",
       "      <td>1.474000</td>\n",
       "      <td>2.212000</td>\n",
       "      <td>2.301680</td>\n",
       "      <td>2.506200</td>\n",
       "      <td>2.656440</td>\n",
       "      <td>2.915440</td>\n",
       "      <td>4.88500</td>\n",
       "    </tr>\n",
       "    <tr>\n",
       "      <th>perimeter_se</th>\n",
       "      <td>569.0</td>\n",
       "      <td>2.866059</td>\n",
       "      <td>2.021855</td>\n",
       "      <td>0.757000</td>\n",
       "      <td>0.953248</td>\n",
       "      <td>1.019640</td>\n",
       "      <td>1.069840</td>\n",
       "      <td>1.102720</td>\n",
       "      <td>1.132800</td>\n",
       "      <td>1.606000</td>\n",
       "      <td>2.287000</td>\n",
       "      <td>3.357000</td>\n",
       "      <td>7.041600</td>\n",
       "      <td>7.255120</td>\n",
       "      <td>7.730600</td>\n",
       "      <td>8.627400</td>\n",
       "      <td>9.690040</td>\n",
       "      <td>21.98000</td>\n",
       "    </tr>\n",
       "    <tr>\n",
       "      <th>area_se</th>\n",
       "      <td>569.0</td>\n",
       "      <td>40.337079</td>\n",
       "      <td>45.491006</td>\n",
       "      <td>6.802000</td>\n",
       "      <td>8.514440</td>\n",
       "      <td>9.370160</td>\n",
       "      <td>9.842880</td>\n",
       "      <td>10.791600</td>\n",
       "      <td>11.360000</td>\n",
       "      <td>17.850000</td>\n",
       "      <td>24.530000</td>\n",
       "      <td>45.190000</td>\n",
       "      <td>115.800000</td>\n",
       "      <td>122.888000</td>\n",
       "      <td>134.728000</td>\n",
       "      <td>154.936000</td>\n",
       "      <td>177.684000</td>\n",
       "      <td>542.20000</td>\n",
       "    </tr>\n",
       "    <tr>\n",
       "      <th>smoothness_se</th>\n",
       "      <td>569.0</td>\n",
       "      <td>0.007041</td>\n",
       "      <td>0.003003</td>\n",
       "      <td>0.001713</td>\n",
       "      <td>0.003058</td>\n",
       "      <td>0.003284</td>\n",
       "      <td>0.003444</td>\n",
       "      <td>0.003603</td>\n",
       "      <td>0.003690</td>\n",
       "      <td>0.005169</td>\n",
       "      <td>0.006380</td>\n",
       "      <td>0.008146</td>\n",
       "      <td>0.012644</td>\n",
       "      <td>0.012955</td>\n",
       "      <td>0.013848</td>\n",
       "      <td>0.015280</td>\n",
       "      <td>0.017258</td>\n",
       "      <td>0.03113</td>\n",
       "    </tr>\n",
       "    <tr>\n",
       "      <th>compactness_se</th>\n",
       "      <td>569.0</td>\n",
       "      <td>0.025478</td>\n",
       "      <td>0.017908</td>\n",
       "      <td>0.002252</td>\n",
       "      <td>0.004705</td>\n",
       "      <td>0.005628</td>\n",
       "      <td>0.006099</td>\n",
       "      <td>0.006866</td>\n",
       "      <td>0.007892</td>\n",
       "      <td>0.013080</td>\n",
       "      <td>0.020450</td>\n",
       "      <td>0.032450</td>\n",
       "      <td>0.060578</td>\n",
       "      <td>0.066088</td>\n",
       "      <td>0.070548</td>\n",
       "      <td>0.080392</td>\n",
       "      <td>0.089872</td>\n",
       "      <td>0.13540</td>\n",
       "    </tr>\n",
       "    <tr>\n",
       "      <th>concavity_se</th>\n",
       "      <td>569.0</td>\n",
       "      <td>0.031894</td>\n",
       "      <td>0.030186</td>\n",
       "      <td>0.000000</td>\n",
       "      <td>0.000000</td>\n",
       "      <td>0.000000</td>\n",
       "      <td>0.001196</td>\n",
       "      <td>0.001982</td>\n",
       "      <td>0.003253</td>\n",
       "      <td>0.015090</td>\n",
       "      <td>0.025890</td>\n",
       "      <td>0.042050</td>\n",
       "      <td>0.078936</td>\n",
       "      <td>0.081787</td>\n",
       "      <td>0.092626</td>\n",
       "      <td>0.101584</td>\n",
       "      <td>0.122292</td>\n",
       "      <td>0.39600</td>\n",
       "    </tr>\n",
       "    <tr>\n",
       "      <th>concave points_se</th>\n",
       "      <td>569.0</td>\n",
       "      <td>0.011796</td>\n",
       "      <td>0.006170</td>\n",
       "      <td>0.000000</td>\n",
       "      <td>0.000000</td>\n",
       "      <td>0.000000</td>\n",
       "      <td>0.002948</td>\n",
       "      <td>0.003457</td>\n",
       "      <td>0.003831</td>\n",
       "      <td>0.007638</td>\n",
       "      <td>0.010930</td>\n",
       "      <td>0.014710</td>\n",
       "      <td>0.022884</td>\n",
       "      <td>0.024557</td>\n",
       "      <td>0.025907</td>\n",
       "      <td>0.027688</td>\n",
       "      <td>0.031194</td>\n",
       "      <td>0.05279</td>\n",
       "    </tr>\n",
       "    <tr>\n",
       "      <th>symmetry_se</th>\n",
       "      <td>569.0</td>\n",
       "      <td>0.020542</td>\n",
       "      <td>0.008266</td>\n",
       "      <td>0.007882</td>\n",
       "      <td>0.010547</td>\n",
       "      <td>0.010690</td>\n",
       "      <td>0.011034</td>\n",
       "      <td>0.011447</td>\n",
       "      <td>0.011758</td>\n",
       "      <td>0.015160</td>\n",
       "      <td>0.018730</td>\n",
       "      <td>0.023480</td>\n",
       "      <td>0.034988</td>\n",
       "      <td>0.037568</td>\n",
       "      <td>0.040748</td>\n",
       "      <td>0.044936</td>\n",
       "      <td>0.052208</td>\n",
       "      <td>0.07895</td>\n",
       "    </tr>\n",
       "    <tr>\n",
       "      <th>fractal_dimension_se</th>\n",
       "      <td>569.0</td>\n",
       "      <td>0.003795</td>\n",
       "      <td>0.002646</td>\n",
       "      <td>0.000895</td>\n",
       "      <td>0.001114</td>\n",
       "      <td>0.001321</td>\n",
       "      <td>0.001367</td>\n",
       "      <td>0.001456</td>\n",
       "      <td>0.001522</td>\n",
       "      <td>0.002248</td>\n",
       "      <td>0.003187</td>\n",
       "      <td>0.004558</td>\n",
       "      <td>0.007960</td>\n",
       "      <td>0.008745</td>\n",
       "      <td>0.009624</td>\n",
       "      <td>0.011415</td>\n",
       "      <td>0.012650</td>\n",
       "      <td>0.02984</td>\n",
       "    </tr>\n",
       "    <tr>\n",
       "      <th>radius_worst</th>\n",
       "      <td>569.0</td>\n",
       "      <td>16.269190</td>\n",
       "      <td>4.833242</td>\n",
       "      <td>7.930000</td>\n",
       "      <td>9.207600</td>\n",
       "      <td>9.587680</td>\n",
       "      <td>9.968520</td>\n",
       "      <td>10.266000</td>\n",
       "      <td>10.534000</td>\n",
       "      <td>13.010000</td>\n",
       "      <td>14.970000</td>\n",
       "      <td>18.790000</td>\n",
       "      <td>25.640000</td>\n",
       "      <td>26.053600</td>\n",
       "      <td>27.296400</td>\n",
       "      <td>28.324400</td>\n",
       "      <td>30.762800</td>\n",
       "      <td>36.04000</td>\n",
       "    </tr>\n",
       "    <tr>\n",
       "      <th>texture_worst</th>\n",
       "      <td>569.0</td>\n",
       "      <td>25.677223</td>\n",
       "      <td>6.146258</td>\n",
       "      <td>12.020000</td>\n",
       "      <td>15.200800</td>\n",
       "      <td>15.663600</td>\n",
       "      <td>15.922000</td>\n",
       "      <td>16.336000</td>\n",
       "      <td>16.574000</td>\n",
       "      <td>21.080000</td>\n",
       "      <td>25.410000</td>\n",
       "      <td>29.720000</td>\n",
       "      <td>36.300000</td>\n",
       "      <td>37.138400</td>\n",
       "      <td>38.043200</td>\n",
       "      <td>39.275200</td>\n",
       "      <td>41.802400</td>\n",
       "      <td>49.54000</td>\n",
       "    </tr>\n",
       "    <tr>\n",
       "      <th>perimeter_worst</th>\n",
       "      <td>569.0</td>\n",
       "      <td>107.261213</td>\n",
       "      <td>33.602542</td>\n",
       "      <td>50.410000</td>\n",
       "      <td>58.270400</td>\n",
       "      <td>62.361600</td>\n",
       "      <td>64.506000</td>\n",
       "      <td>66.287200</td>\n",
       "      <td>67.856000</td>\n",
       "      <td>84.110000</td>\n",
       "      <td>97.660000</td>\n",
       "      <td>125.400000</td>\n",
       "      <td>171.640000</td>\n",
       "      <td>177.736000</td>\n",
       "      <td>184.584000</td>\n",
       "      <td>195.576000</td>\n",
       "      <td>208.304000</td>\n",
       "      <td>251.20000</td>\n",
       "    </tr>\n",
       "    <tr>\n",
       "      <th>area_worst</th>\n",
       "      <td>569.0</td>\n",
       "      <td>880.583128</td>\n",
       "      <td>569.356993</td>\n",
       "      <td>185.200000</td>\n",
       "      <td>256.192000</td>\n",
       "      <td>278.768000</td>\n",
       "      <td>300.232000</td>\n",
       "      <td>316.412000</td>\n",
       "      <td>331.060000</td>\n",
       "      <td>515.300000</td>\n",
       "      <td>686.500000</td>\n",
       "      <td>1084.000000</td>\n",
       "      <td>2009.600000</td>\n",
       "      <td>2075.240000</td>\n",
       "      <td>2231.800000</td>\n",
       "      <td>2491.080000</td>\n",
       "      <td>2918.160000</td>\n",
       "      <td>4254.00000</td>\n",
       "    </tr>\n",
       "    <tr>\n",
       "      <th>smoothness_worst</th>\n",
       "      <td>569.0</td>\n",
       "      <td>0.132369</td>\n",
       "      <td>0.022832</td>\n",
       "      <td>0.071170</td>\n",
       "      <td>0.087910</td>\n",
       "      <td>0.090878</td>\n",
       "      <td>0.093686</td>\n",
       "      <td>0.094342</td>\n",
       "      <td>0.095734</td>\n",
       "      <td>0.116600</td>\n",
       "      <td>0.131300</td>\n",
       "      <td>0.146000</td>\n",
       "      <td>0.171840</td>\n",
       "      <td>0.177052</td>\n",
       "      <td>0.178888</td>\n",
       "      <td>0.185228</td>\n",
       "      <td>0.188908</td>\n",
       "      <td>0.22260</td>\n",
       "    </tr>\n",
       "    <tr>\n",
       "      <th>compactness_worst</th>\n",
       "      <td>569.0</td>\n",
       "      <td>0.254265</td>\n",
       "      <td>0.157336</td>\n",
       "      <td>0.027290</td>\n",
       "      <td>0.050094</td>\n",
       "      <td>0.054626</td>\n",
       "      <td>0.064453</td>\n",
       "      <td>0.067778</td>\n",
       "      <td>0.071196</td>\n",
       "      <td>0.147200</td>\n",
       "      <td>0.211900</td>\n",
       "      <td>0.339100</td>\n",
       "      <td>0.564120</td>\n",
       "      <td>0.592260</td>\n",
       "      <td>0.616184</td>\n",
       "      <td>0.687424</td>\n",
       "      <td>0.778644</td>\n",
       "      <td>1.05800</td>\n",
       "    </tr>\n",
       "    <tr>\n",
       "      <th>concavity_worst</th>\n",
       "      <td>569.0</td>\n",
       "      <td>0.272188</td>\n",
       "      <td>0.208624</td>\n",
       "      <td>0.000000</td>\n",
       "      <td>0.000000</td>\n",
       "      <td>0.000000</td>\n",
       "      <td>0.005633</td>\n",
       "      <td>0.012028</td>\n",
       "      <td>0.018360</td>\n",
       "      <td>0.114500</td>\n",
       "      <td>0.226700</td>\n",
       "      <td>0.382900</td>\n",
       "      <td>0.682380</td>\n",
       "      <td>0.696580</td>\n",
       "      <td>0.723708</td>\n",
       "      <td>0.783260</td>\n",
       "      <td>0.902380</td>\n",
       "      <td>1.25200</td>\n",
       "    </tr>\n",
       "    <tr>\n",
       "      <th>concave points_worst</th>\n",
       "      <td>569.0</td>\n",
       "      <td>0.114606</td>\n",
       "      <td>0.065732</td>\n",
       "      <td>0.000000</td>\n",
       "      <td>0.000000</td>\n",
       "      <td>0.000000</td>\n",
       "      <td>0.011221</td>\n",
       "      <td>0.020659</td>\n",
       "      <td>0.024286</td>\n",
       "      <td>0.064930</td>\n",
       "      <td>0.099930</td>\n",
       "      <td>0.161400</td>\n",
       "      <td>0.236920</td>\n",
       "      <td>0.244040</td>\n",
       "      <td>0.250796</td>\n",
       "      <td>0.258652</td>\n",
       "      <td>0.269216</td>\n",
       "      <td>0.29100</td>\n",
       "    </tr>\n",
       "    <tr>\n",
       "      <th>symmetry_worst</th>\n",
       "      <td>569.0</td>\n",
       "      <td>0.290076</td>\n",
       "      <td>0.061867</td>\n",
       "      <td>0.156500</td>\n",
       "      <td>0.176028</td>\n",
       "      <td>0.190136</td>\n",
       "      <td>0.198704</td>\n",
       "      <td>0.208160</td>\n",
       "      <td>0.212700</td>\n",
       "      <td>0.250400</td>\n",
       "      <td>0.282200</td>\n",
       "      <td>0.317900</td>\n",
       "      <td>0.406160</td>\n",
       "      <td>0.417192</td>\n",
       "      <td>0.436216</td>\n",
       "      <td>0.467448</td>\n",
       "      <td>0.486908</td>\n",
       "      <td>0.66380</td>\n",
       "    </tr>\n",
       "    <tr>\n",
       "      <th>fractal_dimension_worst</th>\n",
       "      <td>569.0</td>\n",
       "      <td>0.083946</td>\n",
       "      <td>0.018061</td>\n",
       "      <td>0.055040</td>\n",
       "      <td>0.058580</td>\n",
       "      <td>0.059727</td>\n",
       "      <td>0.060852</td>\n",
       "      <td>0.061647</td>\n",
       "      <td>0.062558</td>\n",
       "      <td>0.071460</td>\n",
       "      <td>0.080040</td>\n",
       "      <td>0.092080</td>\n",
       "      <td>0.119520</td>\n",
       "      <td>0.123496</td>\n",
       "      <td>0.125200</td>\n",
       "      <td>0.132388</td>\n",
       "      <td>0.140628</td>\n",
       "      <td>0.20750</td>\n",
       "    </tr>\n",
       "  </tbody>\n",
       "</table>\n",
       "</div>"
      ],
      "text/plain": [
       "                         count        mean         std         min  \\\n",
       "radius_mean              569.0   14.127292    3.524049    6.981000   \n",
       "texture_mean             569.0   19.289649    4.301036    9.710000   \n",
       "perimeter_mean           569.0   91.969033   24.298981   43.790000   \n",
       "area_mean                569.0  654.889104  351.914129  143.500000   \n",
       "smoothness_mean          569.0    0.096360    0.014064    0.052630   \n",
       "compactness_mean         569.0    0.104341    0.052813    0.019380   \n",
       "concavity_mean           569.0    0.088799    0.079720    0.000000   \n",
       "concave points_mean      569.0    0.048919    0.038803    0.000000   \n",
       "symmetry_mean            569.0    0.181162    0.027414    0.106000   \n",
       "fractal_dimension_mean   569.0    0.062798    0.007060    0.049960   \n",
       "radius_se                569.0    0.405172    0.277313    0.111500   \n",
       "texture_se               569.0    1.216853    0.551648    0.360200   \n",
       "perimeter_se             569.0    2.866059    2.021855    0.757000   \n",
       "area_se                  569.0   40.337079   45.491006    6.802000   \n",
       "smoothness_se            569.0    0.007041    0.003003    0.001713   \n",
       "compactness_se           569.0    0.025478    0.017908    0.002252   \n",
       "concavity_se             569.0    0.031894    0.030186    0.000000   \n",
       "concave points_se        569.0    0.011796    0.006170    0.000000   \n",
       "symmetry_se              569.0    0.020542    0.008266    0.007882   \n",
       "fractal_dimension_se     569.0    0.003795    0.002646    0.000895   \n",
       "radius_worst             569.0   16.269190    4.833242    7.930000   \n",
       "texture_worst            569.0   25.677223    6.146258   12.020000   \n",
       "perimeter_worst          569.0  107.261213   33.602542   50.410000   \n",
       "area_worst               569.0  880.583128  569.356993  185.200000   \n",
       "smoothness_worst         569.0    0.132369    0.022832    0.071170   \n",
       "compactness_worst        569.0    0.254265    0.157336    0.027290   \n",
       "concavity_worst          569.0    0.272188    0.208624    0.000000   \n",
       "concave points_worst     569.0    0.114606    0.065732    0.000000   \n",
       "symmetry_worst           569.0    0.290076    0.061867    0.156500   \n",
       "fractal_dimension_worst  569.0    0.083946    0.018061    0.055040   \n",
       "\n",
       "                                 1%          2%          3%          4%  \\\n",
       "radius_mean                8.458360    8.728880    9.029520    9.379080   \n",
       "texture_mean              10.930400   12.188000   12.711200   12.901600   \n",
       "perimeter_mean            53.827600   55.475200   58.798800   59.800400   \n",
       "area_mean                215.664000  232.124000  246.396000  267.456000   \n",
       "smoothness_mean            0.068654    0.070126    0.073512    0.074346   \n",
       "compactness_mean           0.033351    0.035884    0.037663    0.038614   \n",
       "concavity_mean             0.000000    0.000000    0.001489    0.002677   \n",
       "concave points_mean        0.000000    0.000000    0.003130    0.004874   \n",
       "symmetry_mean              0.129508    0.134936    0.137308    0.138772   \n",
       "fractal_dimension_mean     0.051504    0.052473    0.053072    0.053394   \n",
       "radius_se                  0.119740    0.136488    0.148556    0.154856   \n",
       "texture_se                 0.410548    0.469576    0.489264    0.502348   \n",
       "perimeter_se               0.953248    1.019640    1.069840    1.102720   \n",
       "area_se                    8.514440    9.370160    9.842880   10.791600   \n",
       "smoothness_se              0.003058    0.003284    0.003444    0.003603   \n",
       "compactness_se             0.004705    0.005628    0.006099    0.006866   \n",
       "concavity_se               0.000000    0.000000    0.001196    0.001982   \n",
       "concave points_se          0.000000    0.000000    0.002948    0.003457   \n",
       "symmetry_se                0.010547    0.010690    0.011034    0.011447   \n",
       "fractal_dimension_se       0.001114    0.001321    0.001367    0.001456   \n",
       "radius_worst               9.207600    9.587680    9.968520   10.266000   \n",
       "texture_worst             15.200800   15.663600   15.922000   16.336000   \n",
       "perimeter_worst           58.270400   62.361600   64.506000   66.287200   \n",
       "area_worst               256.192000  278.768000  300.232000  316.412000   \n",
       "smoothness_worst           0.087910    0.090878    0.093686    0.094342   \n",
       "compactness_worst          0.050094    0.054626    0.064453    0.067778   \n",
       "concavity_worst            0.000000    0.000000    0.005633    0.012028   \n",
       "concave points_worst       0.000000    0.000000    0.011221    0.020659   \n",
       "symmetry_worst             0.176028    0.190136    0.198704    0.208160   \n",
       "fractal_dimension_worst    0.058580    0.059727    0.060852    0.061647   \n",
       "\n",
       "                                 5%         25%         50%          75%  \\\n",
       "radius_mean                9.529200   11.700000   13.370000    15.780000   \n",
       "texture_mean              13.088000   16.170000   18.840000    21.800000   \n",
       "perimeter_mean            60.496000   75.170000   86.240000   104.100000   \n",
       "area_mean                275.780000  420.300000  551.100000   782.700000   \n",
       "smoothness_mean            0.075042    0.086370    0.095870     0.105300   \n",
       "compactness_mean           0.040660    0.064920    0.092630     0.130400   \n",
       "concavity_mean             0.004983    0.029560    0.061540     0.130700   \n",
       "concave points_mean        0.005621    0.020310    0.033500     0.074000   \n",
       "symmetry_mean              0.141500    0.161900    0.179200     0.195700   \n",
       "fractal_dimension_mean     0.053926    0.057700    0.061540     0.066120   \n",
       "radius_se                  0.160100    0.232400    0.324200     0.478900   \n",
       "texture_se                 0.540140    0.833900    1.108000     1.474000   \n",
       "perimeter_se               1.132800    1.606000    2.287000     3.357000   \n",
       "area_se                   11.360000   17.850000   24.530000    45.190000   \n",
       "smoothness_se              0.003690    0.005169    0.006380     0.008146   \n",
       "compactness_se             0.007892    0.013080    0.020450     0.032450   \n",
       "concavity_se               0.003253    0.015090    0.025890     0.042050   \n",
       "concave points_se          0.003831    0.007638    0.010930     0.014710   \n",
       "symmetry_se                0.011758    0.015160    0.018730     0.023480   \n",
       "fractal_dimension_se       0.001522    0.002248    0.003187     0.004558   \n",
       "radius_worst              10.534000   13.010000   14.970000    18.790000   \n",
       "texture_worst             16.574000   21.080000   25.410000    29.720000   \n",
       "perimeter_worst           67.856000   84.110000   97.660000   125.400000   \n",
       "area_worst               331.060000  515.300000  686.500000  1084.000000   \n",
       "smoothness_worst           0.095734    0.116600    0.131300     0.146000   \n",
       "compactness_worst          0.071196    0.147200    0.211900     0.339100   \n",
       "concavity_worst            0.018360    0.114500    0.226700     0.382900   \n",
       "concave points_worst       0.024286    0.064930    0.099930     0.161400   \n",
       "symmetry_worst             0.212700    0.250400    0.282200     0.317900   \n",
       "fractal_dimension_worst    0.062558    0.071460    0.080040     0.092080   \n",
       "\n",
       "                                 95%          96%          97%          98%  \\\n",
       "radius_mean                20.576000    20.925600    21.552400    22.794800   \n",
       "texture_mean               27.150000    27.922000    28.209600    29.315600   \n",
       "perimeter_mean            135.820000   139.236000   142.988000   152.100000   \n",
       "area_mean                1309.800000  1351.760000  1418.520000  1625.360000   \n",
       "smoothness_mean             0.118780     0.121656     0.123696     0.126724   \n",
       "compactness_mean            0.208700     0.219392     0.227452     0.240688   \n",
       "concavity_mean              0.243020     0.254640     0.286856     0.317528   \n",
       "concave points_mean         0.125740     0.131336     0.146664     0.150292   \n",
       "symmetry_mean               0.230720     0.237584     0.239796     0.253188   \n",
       "fractal_dimension_mean      0.076090     0.077114     0.078173     0.080831   \n",
       "radius_se                   0.959520     0.996256     1.057520     1.170200   \n",
       "texture_se                  2.212000     2.301680     2.506200     2.656440   \n",
       "perimeter_se                7.041600     7.255120     7.730600     8.627400   \n",
       "area_se                   115.800000   122.888000   134.728000   154.936000   \n",
       "smoothness_se               0.012644     0.012955     0.013848     0.015280   \n",
       "compactness_se              0.060578     0.066088     0.070548     0.080392   \n",
       "concavity_se                0.078936     0.081787     0.092626     0.101584   \n",
       "concave points_se           0.022884     0.024557     0.025907     0.027688   \n",
       "symmetry_se                 0.034988     0.037568     0.040748     0.044936   \n",
       "fractal_dimension_se        0.007960     0.008745     0.009624     0.011415   \n",
       "radius_worst               25.640000    26.053600    27.296400    28.324400   \n",
       "texture_worst              36.300000    37.138400    38.043200    39.275200   \n",
       "perimeter_worst           171.640000   177.736000   184.584000   195.576000   \n",
       "area_worst               2009.600000  2075.240000  2231.800000  2491.080000   \n",
       "smoothness_worst            0.171840     0.177052     0.178888     0.185228   \n",
       "compactness_worst           0.564120     0.592260     0.616184     0.687424   \n",
       "concavity_worst             0.682380     0.696580     0.723708     0.783260   \n",
       "concave points_worst        0.236920     0.244040     0.250796     0.258652   \n",
       "symmetry_worst              0.406160     0.417192     0.436216     0.467448   \n",
       "fractal_dimension_worst     0.119520     0.123496     0.125200     0.132388   \n",
       "\n",
       "                                 99%         max  \n",
       "radius_mean                24.371600    28.11000  \n",
       "texture_mean               30.652000    39.28000  \n",
       "perimeter_mean            165.724000   188.50000  \n",
       "area_mean                1786.600000  2501.00000  \n",
       "smoothness_mean             0.132888     0.16340  \n",
       "compactness_mean            0.277192     0.34540  \n",
       "concavity_mean              0.351688     0.42680  \n",
       "concave points_mean         0.164208     0.20120  \n",
       "symmetry_mean               0.259564     0.30400  \n",
       "fractal_dimension_mean      0.085438     0.09744  \n",
       "radius_se                   1.291320     2.87300  \n",
       "texture_se                  2.915440     4.88500  \n",
       "perimeter_se                9.690040    21.98000  \n",
       "area_se                   177.684000   542.20000  \n",
       "smoothness_se               0.017258     0.03113  \n",
       "compactness_se              0.089872     0.13540  \n",
       "concavity_se                0.122292     0.39600  \n",
       "concave points_se           0.031194     0.05279  \n",
       "symmetry_se                 0.052208     0.07895  \n",
       "fractal_dimension_se        0.012650     0.02984  \n",
       "radius_worst               30.762800    36.04000  \n",
       "texture_worst              41.802400    49.54000  \n",
       "perimeter_worst           208.304000   251.20000  \n",
       "area_worst               2918.160000  4254.00000  \n",
       "smoothness_worst            0.188908     0.22260  \n",
       "compactness_worst           0.778644     1.05800  \n",
       "concavity_worst             0.902380     1.25200  \n",
       "concave points_worst        0.269216     0.29100  \n",
       "symmetry_worst              0.486908     0.66380  \n",
       "fractal_dimension_worst     0.140628     0.20750  "
      ]
     },
     "execution_count": 22,
     "metadata": {},
     "output_type": "execute_result"
    }
   ],
   "source": [
    "# Checking Outliers\n",
    "cancer.describe(percentiles = [0.01, 0.02, 0.03, 0.04, 0.05, 0.25, 0.5, 0.75, 0.95, 0.96, 0.97, 0.98, 0.99]).T"
   ]
  },
  {
   "cell_type": "code",
   "execution_count": 23,
   "id": "e19981e3",
   "metadata": {},
   "outputs": [],
   "source": [
    "def outliers(x):\n",
    "    x=x.clip(upper=x.quantile(.99))\n",
    "    x=x.clip(lower=x.quantile(.01))\n",
    "    return x "
   ]
  },
  {
   "cell_type": "code",
   "execution_count": 24,
   "id": "2190504b",
   "metadata": {},
   "outputs": [],
   "source": [
    "cancer1 = cancer.copy()\n",
    "cancer1.drop(['diagnosis'], axis = 1, inplace = True)"
   ]
  },
  {
   "cell_type": "code",
   "execution_count": 25,
   "id": "32070115",
   "metadata": {},
   "outputs": [],
   "source": [
    "cancer1 = cancer1.apply(lambda x : outliers(x))"
   ]
  },
  {
   "cell_type": "code",
   "execution_count": 26,
   "id": "046dd786",
   "metadata": {},
   "outputs": [],
   "source": [
    "target = cancer['diagnosis']"
   ]
  },
  {
   "cell_type": "code",
   "execution_count": 27,
   "id": "94b3e8cf",
   "metadata": {},
   "outputs": [],
   "source": [
    "cancer_cleaned = pd.concat([target, cancer1], axis = 1)"
   ]
  },
  {
   "cell_type": "code",
   "execution_count": 28,
   "id": "5a25f080",
   "metadata": {},
   "outputs": [],
   "source": [
    "cancer_dummy = pd.get_dummies(cancer_cleaned, drop_first=True)"
   ]
  },
  {
   "cell_type": "code",
   "execution_count": 29,
   "id": "30efe05b",
   "metadata": {},
   "outputs": [],
   "source": [
    "y = cancer_dummy['diagnosis_1']\n",
    "x = cancer_dummy.drop(columns=['diagnosis_1'])"
   ]
  },
  {
   "cell_type": "code",
   "execution_count": 30,
   "id": "ed64111d",
   "metadata": {},
   "outputs": [],
   "source": [
    "x_train, x_test, y_train, y_test=train_test_split(x,y,test_size=0.25, random_state=1)"
   ]
  },
  {
   "cell_type": "code",
   "execution_count": 31,
   "id": "ee5fe789",
   "metadata": {},
   "outputs": [],
   "source": [
    "sc = StandardScaler()\n",
    "sc_fit = sc.fit(x_train)\n",
    "\n",
    "x_train_sc = sc_fit.transform(x_train)\n",
    "x_test_sc = sc_fit.transform(x_test)"
   ]
  },
  {
   "cell_type": "code",
   "execution_count": 32,
   "id": "b14e5ac7",
   "metadata": {},
   "outputs": [],
   "source": [
    "x_train_sc_df = pd.DataFrame(x_train_sc, columns=x_train.columns)\n",
    "x_test_sc_df = pd.DataFrame(x_test_sc, columns=x_test.columns)"
   ]
  },
  {
   "cell_type": "code",
   "execution_count": 33,
   "id": "44273a81",
   "metadata": {},
   "outputs": [
    {
     "name": "stdout",
     "output_type": "stream",
     "text": [
      "Fitting 10 folds for each of 216 candidates, totalling 2160 fits\n"
     ]
    },
    {
     "data": {
      "text/html": [
       "<style>#sk-container-id-1 {color: black;background-color: white;}#sk-container-id-1 pre{padding: 0;}#sk-container-id-1 div.sk-toggleable {background-color: white;}#sk-container-id-1 label.sk-toggleable__label {cursor: pointer;display: block;width: 100%;margin-bottom: 0;padding: 0.3em;box-sizing: border-box;text-align: center;}#sk-container-id-1 label.sk-toggleable__label-arrow:before {content: \"▸\";float: left;margin-right: 0.25em;color: #696969;}#sk-container-id-1 label.sk-toggleable__label-arrow:hover:before {color: black;}#sk-container-id-1 div.sk-estimator:hover label.sk-toggleable__label-arrow:before {color: black;}#sk-container-id-1 div.sk-toggleable__content {max-height: 0;max-width: 0;overflow: hidden;text-align: left;background-color: #f0f8ff;}#sk-container-id-1 div.sk-toggleable__content pre {margin: 0.2em;color: black;border-radius: 0.25em;background-color: #f0f8ff;}#sk-container-id-1 input.sk-toggleable__control:checked~div.sk-toggleable__content {max-height: 200px;max-width: 100%;overflow: auto;}#sk-container-id-1 input.sk-toggleable__control:checked~label.sk-toggleable__label-arrow:before {content: \"▾\";}#sk-container-id-1 div.sk-estimator input.sk-toggleable__control:checked~label.sk-toggleable__label {background-color: #d4ebff;}#sk-container-id-1 div.sk-label input.sk-toggleable__control:checked~label.sk-toggleable__label {background-color: #d4ebff;}#sk-container-id-1 input.sk-hidden--visually {border: 0;clip: rect(1px 1px 1px 1px);clip: rect(1px, 1px, 1px, 1px);height: 1px;margin: -1px;overflow: hidden;padding: 0;position: absolute;width: 1px;}#sk-container-id-1 div.sk-estimator {font-family: monospace;background-color: #f0f8ff;border: 1px dotted black;border-radius: 0.25em;box-sizing: border-box;margin-bottom: 0.5em;}#sk-container-id-1 div.sk-estimator:hover {background-color: #d4ebff;}#sk-container-id-1 div.sk-parallel-item::after {content: \"\";width: 100%;border-bottom: 1px solid gray;flex-grow: 1;}#sk-container-id-1 div.sk-label:hover label.sk-toggleable__label {background-color: #d4ebff;}#sk-container-id-1 div.sk-serial::before {content: \"\";position: absolute;border-left: 1px solid gray;box-sizing: border-box;top: 0;bottom: 0;left: 50%;z-index: 0;}#sk-container-id-1 div.sk-serial {display: flex;flex-direction: column;align-items: center;background-color: white;padding-right: 0.2em;padding-left: 0.2em;position: relative;}#sk-container-id-1 div.sk-item {position: relative;z-index: 1;}#sk-container-id-1 div.sk-parallel {display: flex;align-items: stretch;justify-content: center;background-color: white;position: relative;}#sk-container-id-1 div.sk-item::before, #sk-container-id-1 div.sk-parallel-item::before {content: \"\";position: absolute;border-left: 1px solid gray;box-sizing: border-box;top: 0;bottom: 0;left: 50%;z-index: -1;}#sk-container-id-1 div.sk-parallel-item {display: flex;flex-direction: column;z-index: 1;position: relative;background-color: white;}#sk-container-id-1 div.sk-parallel-item:first-child::after {align-self: flex-end;width: 50%;}#sk-container-id-1 div.sk-parallel-item:last-child::after {align-self: flex-start;width: 50%;}#sk-container-id-1 div.sk-parallel-item:only-child::after {width: 0;}#sk-container-id-1 div.sk-dashed-wrapped {border: 1px dashed gray;margin: 0 0.4em 0.5em 0.4em;box-sizing: border-box;padding-bottom: 0.4em;background-color: white;}#sk-container-id-1 div.sk-label label {font-family: monospace;font-weight: bold;display: inline-block;line-height: 1.2em;}#sk-container-id-1 div.sk-label-container {text-align: center;}#sk-container-id-1 div.sk-container {/* jupyter's `normalize.less` sets `[hidden] { display: none; }` but bootstrap.min.css set `[hidden] { display: none !important; }` so we also need the `!important` here to be able to override the default hidden behavior on the sphinx rendered scikit-learn.org. See: https://github.com/scikit-learn/scikit-learn/issues/21755 */display: inline-block !important;position: relative;}#sk-container-id-1 div.sk-text-repr-fallback {display: none;}</style><div id=\"sk-container-id-1\" class=\"sk-top-container\"><div class=\"sk-text-repr-fallback\"><pre>GridSearchCV(cv=10, estimator=SVC(), n_jobs=-1,\n",
       "             param_grid={&#x27;C&#x27;: [0.001, 0.01, 0.1, 1, 10, 100],\n",
       "                         &#x27;degree&#x27;: [1, 2, 3, 4], &#x27;gamma&#x27;: [0.1, 1, 0.001],\n",
       "                         &#x27;kernel&#x27;: [&#x27;linear&#x27;, &#x27;poly&#x27;, &#x27;rbf&#x27;]},\n",
       "             verbose=True)</pre><b>In a Jupyter environment, please rerun this cell to show the HTML representation or trust the notebook. <br />On GitHub, the HTML representation is unable to render, please try loading this page with nbviewer.org.</b></div><div class=\"sk-container\" hidden><div class=\"sk-item sk-dashed-wrapped\"><div class=\"sk-label-container\"><div class=\"sk-label sk-toggleable\"><input class=\"sk-toggleable__control sk-hidden--visually\" id=\"sk-estimator-id-1\" type=\"checkbox\" ><label for=\"sk-estimator-id-1\" class=\"sk-toggleable__label sk-toggleable__label-arrow\">GridSearchCV</label><div class=\"sk-toggleable__content\"><pre>GridSearchCV(cv=10, estimator=SVC(), n_jobs=-1,\n",
       "             param_grid={&#x27;C&#x27;: [0.001, 0.01, 0.1, 1, 10, 100],\n",
       "                         &#x27;degree&#x27;: [1, 2, 3, 4], &#x27;gamma&#x27;: [0.1, 1, 0.001],\n",
       "                         &#x27;kernel&#x27;: [&#x27;linear&#x27;, &#x27;poly&#x27;, &#x27;rbf&#x27;]},\n",
       "             verbose=True)</pre></div></div></div><div class=\"sk-parallel\"><div class=\"sk-parallel-item\"><div class=\"sk-item\"><div class=\"sk-label-container\"><div class=\"sk-label sk-toggleable\"><input class=\"sk-toggleable__control sk-hidden--visually\" id=\"sk-estimator-id-2\" type=\"checkbox\" ><label for=\"sk-estimator-id-2\" class=\"sk-toggleable__label sk-toggleable__label-arrow\">estimator: SVC</label><div class=\"sk-toggleable__content\"><pre>SVC()</pre></div></div></div><div class=\"sk-serial\"><div class=\"sk-item\"><div class=\"sk-estimator sk-toggleable\"><input class=\"sk-toggleable__control sk-hidden--visually\" id=\"sk-estimator-id-3\" type=\"checkbox\" ><label for=\"sk-estimator-id-3\" class=\"sk-toggleable__label sk-toggleable__label-arrow\">SVC</label><div class=\"sk-toggleable__content\"><pre>SVC()</pre></div></div></div></div></div></div></div></div></div></div>"
      ],
      "text/plain": [
       "GridSearchCV(cv=10, estimator=SVC(), n_jobs=-1,\n",
       "             param_grid={'C': [0.001, 0.01, 0.1, 1, 10, 100],\n",
       "                         'degree': [1, 2, 3, 4], 'gamma': [0.1, 1, 0.001],\n",
       "                         'kernel': ['linear', 'poly', 'rbf']},\n",
       "             verbose=True)"
      ]
     },
     "execution_count": 33,
     "metadata": {},
     "output_type": "execute_result"
    }
   ],
   "source": [
    "# Using GridSearchCV for hyperparameter tuning\n",
    "from sklearn.model_selection import GridSearchCV\n",
    "\n",
    "params = {\"kernel\":['linear', 'poly', 'rbf'],\n",
    "       \"degree\":[1,2,3,4],\n",
    "       \"gamma\":[0.1, 1,.001],\n",
    "       \"C\":[0.001, 0.01, 0.1, 1, 10, 100]}\n",
    "\n",
    "sv = svm.SVC()\n",
    "svm_rs = GridSearchCV(sv, params, cv=10, n_jobs=-1, verbose=True)\n",
    "svm_rs.fit(x_train_sc_df, y_train)"
   ]
  },
  {
   "cell_type": "code",
   "execution_count": 34,
   "id": "e4f1bdba",
   "metadata": {},
   "outputs": [
    {
     "data": {
      "text/plain": [
       "{'C': 100, 'degree': 1, 'gamma': 0.001, 'kernel': 'rbf'}"
      ]
     },
     "execution_count": 34,
     "metadata": {},
     "output_type": "execute_result"
    }
   ],
   "source": [
    "svm_rs.best_params_"
   ]
  },
  {
   "cell_type": "code",
   "execution_count": 35,
   "id": "99b24c5a",
   "metadata": {},
   "outputs": [
    {
     "name": "stdout",
     "output_type": "stream",
     "text": [
      "Train score : 0.9882629107981221\n",
      "Test score : 0.965034965034965\n",
      "Time Taken 0.10741496086120605 sec\n"
     ]
    }
   ],
   "source": [
    "import time\n",
    "\n",
    "st = time.time()\n",
    "\n",
    "sv1 = svm.SVC(kernel=\"rbf\", degree=1,gamma=0.001, C=100, probability=True)\n",
    "\n",
    "sv1.fit(x_train_sc_df, y_train)\n",
    "\n",
    "print(\"Train score :\", sv1.score(x_train_sc_df, y_train))\n",
    "print(\"Test score :\", sv1.score(x_test_sc_df, y_test))\n",
    "\n",
    "et = time.time()\n",
    "print(\"Time Taken\", et-st, \"sec\")"
   ]
  },
  {
   "cell_type": "code",
   "execution_count": 36,
   "id": "bb2ff7e4",
   "metadata": {},
   "outputs": [],
   "source": [
    "pred_train = sv1.predict(x_train_sc_df)\n",
    "pred_test = sv1.predict(x_test_sc_df)"
   ]
  },
  {
   "cell_type": "code",
   "execution_count": 37,
   "id": "68ef9809",
   "metadata": {},
   "outputs": [
    {
     "name": "stdout",
     "output_type": "stream",
     "text": [
      "              precision    recall  f1-score   support\n",
      "\n",
      "           0       0.99      1.00      0.99       269\n",
      "           1       0.99      0.97      0.98       157\n",
      "\n",
      "    accuracy                           0.99       426\n",
      "   macro avg       0.99      0.99      0.99       426\n",
      "weighted avg       0.99      0.99      0.99       426\n",
      "\n"
     ]
    }
   ],
   "source": [
    "print(metrics.classification_report(y_train, pred_train))"
   ]
  },
  {
   "cell_type": "code",
   "execution_count": 38,
   "id": "025c7ec5",
   "metadata": {},
   "outputs": [
    {
     "name": "stdout",
     "output_type": "stream",
     "text": [
      "              precision    recall  f1-score   support\n",
      "\n",
      "           0       0.96      0.99      0.97        88\n",
      "           1       0.98      0.93      0.95        55\n",
      "\n",
      "    accuracy                           0.97       143\n",
      "   macro avg       0.97      0.96      0.96       143\n",
      "weighted avg       0.97      0.97      0.96       143\n",
      "\n"
     ]
    }
   ],
   "source": [
    "print(metrics.classification_report(y_test, pred_test))"
   ]
  },
  {
   "cell_type": "code",
   "execution_count": 39,
   "id": "133a8571",
   "metadata": {},
   "outputs": [
    {
     "data": {
      "image/png": "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\n",
      "text/plain": [
       "<Figure size 640x480 with 1 Axes>"
      ]
     },
     "metadata": {},
     "output_type": "display_data"
    }
   ],
   "source": [
    "y_pred_proba = sv1.predict_proba(x_test_sc_df)[::,1]\n",
    "fpr, tpr, _ = metrics.roc_curve(y_test, y_pred_proba)\n",
    "auc = metrics.roc_auc_score(y_test, y_pred_proba)\n",
    "plt.plot(fpr,tpr,label=\"data 1, auc=\"+str(auc))\n",
    "plt.legend(loc=4)\n",
    "plt.show()"
   ]
  },
  {
   "cell_type": "code",
   "execution_count": 40,
   "id": "6838f9e4",
   "metadata": {},
   "outputs": [
    {
     "name": "stderr",
     "output_type": "stream",
     "text": [
      "C:\\Users\\Akkash\\AppData\\Local\\Temp\\ipykernel_4180\\4096327640.py:10: FutureWarning: The frame.append method is deprecated and will be removed from pandas in a future version. Use pandas.concat instead.\n",
      "  model_svm_report = model_report.append(tmp, ignore_index = True)\n"
     ]
    },
    {
     "data": {
      "text/html": [
       "<div>\n",
       "<style scoped>\n",
       "    .dataframe tbody tr th:only-of-type {\n",
       "        vertical-align: middle;\n",
       "    }\n",
       "\n",
       "    .dataframe tbody tr th {\n",
       "        vertical-align: top;\n",
       "    }\n",
       "\n",
       "    .dataframe thead th {\n",
       "        text-align: right;\n",
       "    }\n",
       "</style>\n",
       "<table border=\"1\" class=\"dataframe\">\n",
       "  <thead>\n",
       "    <tr style=\"text-align: right;\">\n",
       "      <th></th>\n",
       "      <th>Model</th>\n",
       "      <th>ROC Score</th>\n",
       "      <th>Precision Score</th>\n",
       "      <th>Recall Score</th>\n",
       "      <th>F1 Score</th>\n",
       "      <th>Accuracy Score</th>\n",
       "    </tr>\n",
       "  </thead>\n",
       "  <tbody>\n",
       "    <tr>\n",
       "      <th>0</th>\n",
       "      <td>Support Vector Machine</td>\n",
       "      <td>0.957955</td>\n",
       "      <td>0.980769</td>\n",
       "      <td>0.927273</td>\n",
       "      <td>0.953271</td>\n",
       "      <td>0.965035</td>\n",
       "    </tr>\n",
       "  </tbody>\n",
       "</table>\n",
       "</div>"
      ],
      "text/plain": [
       "                      Model  ROC Score  Precision Score  Recall Score  \\\n",
       "0   Support Vector Machine    0.957955         0.980769      0.927273   \n",
       "\n",
       "   F1 Score  Accuracy Score  \n",
       "0  0.953271        0.965035  "
      ]
     },
     "execution_count": 40,
     "metadata": {},
     "output_type": "execute_result"
    }
   ],
   "source": [
    "model_report = pd.DataFrame()\n",
    "\n",
    "tmp = pd.Series({'Model': \" Support Vector Machine \",\n",
    "                 'ROC Score' : metrics.roc_auc_score(y_test, pred_test),\n",
    "                 'Precision Score': metrics.precision_score(y_test, pred_test),\n",
    "                 'Recall Score': metrics.recall_score(y_test, pred_test),\n",
    "                 'F1 Score' : metrics.f1_score(y_test, pred_test),\n",
    "                 'Accuracy Score': metrics.accuracy_score(y_test, pred_test)})\n",
    "\n",
    "model_svm_report = model_report.append(tmp, ignore_index = True)\n",
    "model_svm_report"
   ]
  },
  {
   "cell_type": "code",
   "execution_count": 44,
   "id": "0825a8af",
   "metadata": {},
   "outputs": [
    {
     "name": "stdout",
     "output_type": "stream",
     "text": [
      "Fitting 5 folds for each of 768 candidates, totalling 3840 fits\n"
     ]
    },
    {
     "data": {
      "text/html": [
       "<style>#sk-container-id-3 {color: black;background-color: white;}#sk-container-id-3 pre{padding: 0;}#sk-container-id-3 div.sk-toggleable {background-color: white;}#sk-container-id-3 label.sk-toggleable__label {cursor: pointer;display: block;width: 100%;margin-bottom: 0;padding: 0.3em;box-sizing: border-box;text-align: center;}#sk-container-id-3 label.sk-toggleable__label-arrow:before {content: \"▸\";float: left;margin-right: 0.25em;color: #696969;}#sk-container-id-3 label.sk-toggleable__label-arrow:hover:before {color: black;}#sk-container-id-3 div.sk-estimator:hover label.sk-toggleable__label-arrow:before {color: black;}#sk-container-id-3 div.sk-toggleable__content {max-height: 0;max-width: 0;overflow: hidden;text-align: left;background-color: #f0f8ff;}#sk-container-id-3 div.sk-toggleable__content pre {margin: 0.2em;color: black;border-radius: 0.25em;background-color: #f0f8ff;}#sk-container-id-3 input.sk-toggleable__control:checked~div.sk-toggleable__content {max-height: 200px;max-width: 100%;overflow: auto;}#sk-container-id-3 input.sk-toggleable__control:checked~label.sk-toggleable__label-arrow:before {content: \"▾\";}#sk-container-id-3 div.sk-estimator input.sk-toggleable__control:checked~label.sk-toggleable__label {background-color: #d4ebff;}#sk-container-id-3 div.sk-label input.sk-toggleable__control:checked~label.sk-toggleable__label {background-color: #d4ebff;}#sk-container-id-3 input.sk-hidden--visually {border: 0;clip: rect(1px 1px 1px 1px);clip: rect(1px, 1px, 1px, 1px);height: 1px;margin: -1px;overflow: hidden;padding: 0;position: absolute;width: 1px;}#sk-container-id-3 div.sk-estimator {font-family: monospace;background-color: #f0f8ff;border: 1px dotted black;border-radius: 0.25em;box-sizing: border-box;margin-bottom: 0.5em;}#sk-container-id-3 div.sk-estimator:hover {background-color: #d4ebff;}#sk-container-id-3 div.sk-parallel-item::after {content: \"\";width: 100%;border-bottom: 1px solid gray;flex-grow: 1;}#sk-container-id-3 div.sk-label:hover label.sk-toggleable__label {background-color: #d4ebff;}#sk-container-id-3 div.sk-serial::before {content: \"\";position: absolute;border-left: 1px solid gray;box-sizing: border-box;top: 0;bottom: 0;left: 50%;z-index: 0;}#sk-container-id-3 div.sk-serial {display: flex;flex-direction: column;align-items: center;background-color: white;padding-right: 0.2em;padding-left: 0.2em;position: relative;}#sk-container-id-3 div.sk-item {position: relative;z-index: 1;}#sk-container-id-3 div.sk-parallel {display: flex;align-items: stretch;justify-content: center;background-color: white;position: relative;}#sk-container-id-3 div.sk-item::before, #sk-container-id-3 div.sk-parallel-item::before {content: \"\";position: absolute;border-left: 1px solid gray;box-sizing: border-box;top: 0;bottom: 0;left: 50%;z-index: -1;}#sk-container-id-3 div.sk-parallel-item {display: flex;flex-direction: column;z-index: 1;position: relative;background-color: white;}#sk-container-id-3 div.sk-parallel-item:first-child::after {align-self: flex-end;width: 50%;}#sk-container-id-3 div.sk-parallel-item:last-child::after {align-self: flex-start;width: 50%;}#sk-container-id-3 div.sk-parallel-item:only-child::after {width: 0;}#sk-container-id-3 div.sk-dashed-wrapped {border: 1px dashed gray;margin: 0 0.4em 0.5em 0.4em;box-sizing: border-box;padding-bottom: 0.4em;background-color: white;}#sk-container-id-3 div.sk-label label {font-family: monospace;font-weight: bold;display: inline-block;line-height: 1.2em;}#sk-container-id-3 div.sk-label-container {text-align: center;}#sk-container-id-3 div.sk-container {/* jupyter's `normalize.less` sets `[hidden] { display: none; }` but bootstrap.min.css set `[hidden] { display: none !important; }` so we also need the `!important` here to be able to override the default hidden behavior on the sphinx rendered scikit-learn.org. See: https://github.com/scikit-learn/scikit-learn/issues/21755 */display: inline-block !important;position: relative;}#sk-container-id-3 div.sk-text-repr-fallback {display: none;}</style><div id=\"sk-container-id-3\" class=\"sk-top-container\"><div class=\"sk-text-repr-fallback\"><pre>GridSearchCV(cv=5, estimator=RandomForestClassifier(random_state=42), n_jobs=-1,\n",
       "             param_grid={&#x27;bootstrap&#x27;: [True, False],\n",
       "                         &#x27;criterion&#x27;: [&#x27;entropy&#x27;, &#x27;gini&#x27;],\n",
       "                         &#x27;max_depth&#x27;: [3, 5, 7, 9],\n",
       "                         &#x27;max_features&#x27;: [&#x27;auto&#x27;, &#x27;log2&#x27;, None],\n",
       "                         &#x27;min_samples_split&#x27;: [10, 15, 20, 25],\n",
       "                         &#x27;n_estimators&#x27;: [25, 50, 100, 150]},\n",
       "             verbose=1)</pre><b>In a Jupyter environment, please rerun this cell to show the HTML representation or trust the notebook. <br />On GitHub, the HTML representation is unable to render, please try loading this page with nbviewer.org.</b></div><div class=\"sk-container\" hidden><div class=\"sk-item sk-dashed-wrapped\"><div class=\"sk-label-container\"><div class=\"sk-label sk-toggleable\"><input class=\"sk-toggleable__control sk-hidden--visually\" id=\"sk-estimator-id-7\" type=\"checkbox\" ><label for=\"sk-estimator-id-7\" class=\"sk-toggleable__label sk-toggleable__label-arrow\">GridSearchCV</label><div class=\"sk-toggleable__content\"><pre>GridSearchCV(cv=5, estimator=RandomForestClassifier(random_state=42), n_jobs=-1,\n",
       "             param_grid={&#x27;bootstrap&#x27;: [True, False],\n",
       "                         &#x27;criterion&#x27;: [&#x27;entropy&#x27;, &#x27;gini&#x27;],\n",
       "                         &#x27;max_depth&#x27;: [3, 5, 7, 9],\n",
       "                         &#x27;max_features&#x27;: [&#x27;auto&#x27;, &#x27;log2&#x27;, None],\n",
       "                         &#x27;min_samples_split&#x27;: [10, 15, 20, 25],\n",
       "                         &#x27;n_estimators&#x27;: [25, 50, 100, 150]},\n",
       "             verbose=1)</pre></div></div></div><div class=\"sk-parallel\"><div class=\"sk-parallel-item\"><div class=\"sk-item\"><div class=\"sk-label-container\"><div class=\"sk-label sk-toggleable\"><input class=\"sk-toggleable__control sk-hidden--visually\" id=\"sk-estimator-id-8\" type=\"checkbox\" ><label for=\"sk-estimator-id-8\" class=\"sk-toggleable__label sk-toggleable__label-arrow\">estimator: RandomForestClassifier</label><div class=\"sk-toggleable__content\"><pre>RandomForestClassifier(random_state=42)</pre></div></div></div><div class=\"sk-serial\"><div class=\"sk-item\"><div class=\"sk-estimator sk-toggleable\"><input class=\"sk-toggleable__control sk-hidden--visually\" id=\"sk-estimator-id-9\" type=\"checkbox\" ><label for=\"sk-estimator-id-9\" class=\"sk-toggleable__label sk-toggleable__label-arrow\">RandomForestClassifier</label><div class=\"sk-toggleable__content\"><pre>RandomForestClassifier(random_state=42)</pre></div></div></div></div></div></div></div></div></div></div>"
      ],
      "text/plain": [
       "GridSearchCV(cv=5, estimator=RandomForestClassifier(random_state=42), n_jobs=-1,\n",
       "             param_grid={'bootstrap': [True, False],\n",
       "                         'criterion': ['entropy', 'gini'],\n",
       "                         'max_depth': [3, 5, 7, 9],\n",
       "                         'max_features': ['auto', 'log2', None],\n",
       "                         'min_samples_split': [10, 15, 20, 25],\n",
       "                         'n_estimators': [25, 50, 100, 150]},\n",
       "             verbose=1)"
      ]
     },
     "execution_count": 44,
     "metadata": {},
     "output_type": "execute_result"
    }
   ],
   "source": [
    "param_dist = {'max_depth':[3,5,7,9],\n",
    "              'min_samples_split':[10,15,20,25],\n",
    "              'n_estimators':[25,50,100,150],\n",
    "              'bootstrap': [True, False],\n",
    "              'max_features': ['auto', 'log2', None],\n",
    "              'criterion': ['entropy', 'gini']}\n",
    "\n",
    "fit_rf = RandomForestClassifier(random_state=42)\n",
    "\n",
    "cv_rf = GridSearchCV(fit_rf, cv = 5, param_grid= param_dist, n_jobs = -1, verbose=1)\n",
    "\n",
    "cv_rf.fit(x_train_sc_df, y_train)"
   ]
  },
  {
   "cell_type": "code",
   "execution_count": 45,
   "id": "243ee69f",
   "metadata": {},
   "outputs": [
    {
     "data": {
      "text/plain": [
       "{'bootstrap': False,\n",
       " 'criterion': 'entropy',\n",
       " 'max_depth': 7,\n",
       " 'max_features': 'log2',\n",
       " 'min_samples_split': 20,\n",
       " 'n_estimators': 50}"
      ]
     },
     "execution_count": 45,
     "metadata": {},
     "output_type": "execute_result"
    }
   ],
   "source": [
    "cv_rf.best_params_"
   ]
  },
  {
   "cell_type": "code",
   "execution_count": 43,
   "id": "bb58ee9e",
   "metadata": {},
   "outputs": [
    {
     "name": "stdout",
     "output_type": "stream",
     "text": [
      "Train Accuracy : 0.9976525821596244\n",
      "Test Accuracy : 0.951048951048951\n"
     ]
    }
   ],
   "source": [
    "rf =RandomForestClassifier(n_estimators = 50,\n",
    "                           max_depth = 7, \n",
    "                           criterion = 'entropy',\n",
    "                           min_samples_split = 20,\n",
    "                           max_features = 'log2',\n",
    "                           bootstrap = False)\n",
    "\n",
    "rf.fit(x_train_sc_df, y_train)\n",
    "\n",
    "print(\"Train Accuracy :\", rf.score(x_train_sc_df,y_train))\n",
    "print(\"Test Accuracy :\", rf.score(x_test_sc_df,y_test))"
   ]
  },
  {
   "cell_type": "code",
   "execution_count": 50,
   "id": "5b7d2d01",
   "metadata": {},
   "outputs": [],
   "source": [
    "pred_train_rf = rf.predict(x_train_sc_df)\n",
    "pred_test_rf = rf.predict(x_test_sc_df)"
   ]
  },
  {
   "cell_type": "code",
   "execution_count": 51,
   "id": "658438e2",
   "metadata": {},
   "outputs": [
    {
     "data": {
      "image/png": "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\n",
      "text/plain": [
       "<Figure size 640x480 with 1 Axes>"
      ]
     },
     "metadata": {},
     "output_type": "display_data"
    }
   ],
   "source": [
    "y_pred_proba = rf.predict_proba(x_test_sc_df)[::,1]\n",
    "fpr, tpr, _ = metrics.roc_curve(y_test, y_pred_proba)\n",
    "auc = metrics.roc_auc_score(y_test, y_pred_proba)\n",
    "plt.plot(fpr,tpr,label=\"data 1, auc=\"+str(auc))\n",
    "plt.legend(loc=4)\n",
    "plt.show()"
   ]
  },
  {
   "cell_type": "code",
   "execution_count": 52,
   "id": "d43aa288",
   "metadata": {},
   "outputs": [
    {
     "name": "stderr",
     "output_type": "stream",
     "text": [
      "C:\\Users\\Akkash\\AppData\\Local\\Temp\\ipykernel_4180\\2413036219.py:8: FutureWarning: The frame.append method is deprecated and will be removed from pandas in a future version. Use pandas.concat instead.\n",
      "  model_rf_report = model_report.append(tmp1, ignore_index = True)\n"
     ]
    },
    {
     "data": {
      "text/html": [
       "<div>\n",
       "<style scoped>\n",
       "    .dataframe tbody tr th:only-of-type {\n",
       "        vertical-align: middle;\n",
       "    }\n",
       "\n",
       "    .dataframe tbody tr th {\n",
       "        vertical-align: top;\n",
       "    }\n",
       "\n",
       "    .dataframe thead th {\n",
       "        text-align: right;\n",
       "    }\n",
       "</style>\n",
       "<table border=\"1\" class=\"dataframe\">\n",
       "  <thead>\n",
       "    <tr style=\"text-align: right;\">\n",
       "      <th></th>\n",
       "      <th>Model</th>\n",
       "      <th>ROC Score</th>\n",
       "      <th>Precision Score</th>\n",
       "      <th>Recall Score</th>\n",
       "      <th>F1 Score</th>\n",
       "      <th>Accuracy Score</th>\n",
       "    </tr>\n",
       "  </thead>\n",
       "  <tbody>\n",
       "    <tr>\n",
       "      <th>0</th>\n",
       "      <td>Random Forest Classifier</td>\n",
       "      <td>0.943182</td>\n",
       "      <td>0.961538</td>\n",
       "      <td>0.909091</td>\n",
       "      <td>0.934579</td>\n",
       "      <td>0.951049</td>\n",
       "    </tr>\n",
       "  </tbody>\n",
       "</table>\n",
       "</div>"
      ],
      "text/plain": [
       "                        Model  ROC Score  Precision Score  Recall Score  \\\n",
       "0   Random Forest Classifier    0.943182         0.961538      0.909091   \n",
       "\n",
       "   F1 Score  Accuracy Score  \n",
       "0  0.934579        0.951049  "
      ]
     },
     "execution_count": 52,
     "metadata": {},
     "output_type": "execute_result"
    }
   ],
   "source": [
    "tmp1 = pd.Series({'Model': \" Random Forest Classifier \",\n",
    "                 'ROC Score' : metrics.roc_auc_score(y_test, pred_test_rf),\n",
    "                 'Precision Score': metrics.precision_score(y_test, pred_test_rf),\n",
    "                 'Recall Score': metrics.recall_score(y_test, pred_test_rf),\n",
    "                 'F1 Score' : metrics.f1_score(y_test, pred_test_rf),\n",
    "                 'Accuracy Score': metrics.accuracy_score(y_test, pred_test_rf)})\n",
    "\n",
    "model_rf_report = model_report.append(tmp1, ignore_index = True)\n",
    "model_rf_report"
   ]
  },
  {
   "cell_type": "code",
   "execution_count": 53,
   "id": "937369b8",
   "metadata": {},
   "outputs": [
    {
     "name": "stdout",
     "output_type": "stream",
     "text": [
      "Fitting 5 folds for each of 160 candidates, totalling 800 fits\n"
     ]
    },
    {
     "data": {
      "text/html": [
       "<style>#sk-container-id-4 {color: black;background-color: white;}#sk-container-id-4 pre{padding: 0;}#sk-container-id-4 div.sk-toggleable {background-color: white;}#sk-container-id-4 label.sk-toggleable__label {cursor: pointer;display: block;width: 100%;margin-bottom: 0;padding: 0.3em;box-sizing: border-box;text-align: center;}#sk-container-id-4 label.sk-toggleable__label-arrow:before {content: \"▸\";float: left;margin-right: 0.25em;color: #696969;}#sk-container-id-4 label.sk-toggleable__label-arrow:hover:before {color: black;}#sk-container-id-4 div.sk-estimator:hover label.sk-toggleable__label-arrow:before {color: black;}#sk-container-id-4 div.sk-toggleable__content {max-height: 0;max-width: 0;overflow: hidden;text-align: left;background-color: #f0f8ff;}#sk-container-id-4 div.sk-toggleable__content pre {margin: 0.2em;color: black;border-radius: 0.25em;background-color: #f0f8ff;}#sk-container-id-4 input.sk-toggleable__control:checked~div.sk-toggleable__content {max-height: 200px;max-width: 100%;overflow: auto;}#sk-container-id-4 input.sk-toggleable__control:checked~label.sk-toggleable__label-arrow:before {content: \"▾\";}#sk-container-id-4 div.sk-estimator input.sk-toggleable__control:checked~label.sk-toggleable__label {background-color: #d4ebff;}#sk-container-id-4 div.sk-label input.sk-toggleable__control:checked~label.sk-toggleable__label {background-color: #d4ebff;}#sk-container-id-4 input.sk-hidden--visually {border: 0;clip: rect(1px 1px 1px 1px);clip: rect(1px, 1px, 1px, 1px);height: 1px;margin: -1px;overflow: hidden;padding: 0;position: absolute;width: 1px;}#sk-container-id-4 div.sk-estimator {font-family: monospace;background-color: #f0f8ff;border: 1px dotted black;border-radius: 0.25em;box-sizing: border-box;margin-bottom: 0.5em;}#sk-container-id-4 div.sk-estimator:hover {background-color: #d4ebff;}#sk-container-id-4 div.sk-parallel-item::after {content: \"\";width: 100%;border-bottom: 1px solid gray;flex-grow: 1;}#sk-container-id-4 div.sk-label:hover label.sk-toggleable__label {background-color: #d4ebff;}#sk-container-id-4 div.sk-serial::before {content: \"\";position: absolute;border-left: 1px solid gray;box-sizing: border-box;top: 0;bottom: 0;left: 50%;z-index: 0;}#sk-container-id-4 div.sk-serial {display: flex;flex-direction: column;align-items: center;background-color: white;padding-right: 0.2em;padding-left: 0.2em;position: relative;}#sk-container-id-4 div.sk-item {position: relative;z-index: 1;}#sk-container-id-4 div.sk-parallel {display: flex;align-items: stretch;justify-content: center;background-color: white;position: relative;}#sk-container-id-4 div.sk-item::before, #sk-container-id-4 div.sk-parallel-item::before {content: \"\";position: absolute;border-left: 1px solid gray;box-sizing: border-box;top: 0;bottom: 0;left: 50%;z-index: -1;}#sk-container-id-4 div.sk-parallel-item {display: flex;flex-direction: column;z-index: 1;position: relative;background-color: white;}#sk-container-id-4 div.sk-parallel-item:first-child::after {align-self: flex-end;width: 50%;}#sk-container-id-4 div.sk-parallel-item:last-child::after {align-self: flex-start;width: 50%;}#sk-container-id-4 div.sk-parallel-item:only-child::after {width: 0;}#sk-container-id-4 div.sk-dashed-wrapped {border: 1px dashed gray;margin: 0 0.4em 0.5em 0.4em;box-sizing: border-box;padding-bottom: 0.4em;background-color: white;}#sk-container-id-4 div.sk-label label {font-family: monospace;font-weight: bold;display: inline-block;line-height: 1.2em;}#sk-container-id-4 div.sk-label-container {text-align: center;}#sk-container-id-4 div.sk-container {/* jupyter's `normalize.less` sets `[hidden] { display: none; }` but bootstrap.min.css set `[hidden] { display: none !important; }` so we also need the `!important` here to be able to override the default hidden behavior on the sphinx rendered scikit-learn.org. See: https://github.com/scikit-learn/scikit-learn/issues/21755 */display: inline-block !important;position: relative;}#sk-container-id-4 div.sk-text-repr-fallback {display: none;}</style><div id=\"sk-container-id-4\" class=\"sk-top-container\"><div class=\"sk-text-repr-fallback\"><pre>GridSearchCV(cv=5, estimator=BaggingClassifier(random_state=1), n_jobs=-1,\n",
       "             param_grid={&#x27;bootstrap&#x27;: [True, False],\n",
       "                         &#x27;max_features&#x27;: [1, 2, 3, 5, 10],\n",
       "                         &#x27;max_samples&#x27;: [15, 20, 25, 30],\n",
       "                         &#x27;n_estimators&#x27;: [150, 200, 250, 300]},\n",
       "             verbose=1)</pre><b>In a Jupyter environment, please rerun this cell to show the HTML representation or trust the notebook. <br />On GitHub, the HTML representation is unable to render, please try loading this page with nbviewer.org.</b></div><div class=\"sk-container\" hidden><div class=\"sk-item sk-dashed-wrapped\"><div class=\"sk-label-container\"><div class=\"sk-label sk-toggleable\"><input class=\"sk-toggleable__control sk-hidden--visually\" id=\"sk-estimator-id-10\" type=\"checkbox\" ><label for=\"sk-estimator-id-10\" class=\"sk-toggleable__label sk-toggleable__label-arrow\">GridSearchCV</label><div class=\"sk-toggleable__content\"><pre>GridSearchCV(cv=5, estimator=BaggingClassifier(random_state=1), n_jobs=-1,\n",
       "             param_grid={&#x27;bootstrap&#x27;: [True, False],\n",
       "                         &#x27;max_features&#x27;: [1, 2, 3, 5, 10],\n",
       "                         &#x27;max_samples&#x27;: [15, 20, 25, 30],\n",
       "                         &#x27;n_estimators&#x27;: [150, 200, 250, 300]},\n",
       "             verbose=1)</pre></div></div></div><div class=\"sk-parallel\"><div class=\"sk-parallel-item\"><div class=\"sk-item\"><div class=\"sk-label-container\"><div class=\"sk-label sk-toggleable\"><input class=\"sk-toggleable__control sk-hidden--visually\" id=\"sk-estimator-id-11\" type=\"checkbox\" ><label for=\"sk-estimator-id-11\" class=\"sk-toggleable__label sk-toggleable__label-arrow\">estimator: BaggingClassifier</label><div class=\"sk-toggleable__content\"><pre>BaggingClassifier(random_state=1)</pre></div></div></div><div class=\"sk-serial\"><div class=\"sk-item\"><div class=\"sk-estimator sk-toggleable\"><input class=\"sk-toggleable__control sk-hidden--visually\" id=\"sk-estimator-id-12\" type=\"checkbox\" ><label for=\"sk-estimator-id-12\" class=\"sk-toggleable__label sk-toggleable__label-arrow\">BaggingClassifier</label><div class=\"sk-toggleable__content\"><pre>BaggingClassifier(random_state=1)</pre></div></div></div></div></div></div></div></div></div></div>"
      ],
      "text/plain": [
       "GridSearchCV(cv=5, estimator=BaggingClassifier(random_state=1), n_jobs=-1,\n",
       "             param_grid={'bootstrap': [True, False],\n",
       "                         'max_features': [1, 2, 3, 5, 10],\n",
       "                         'max_samples': [15, 20, 25, 30],\n",
       "                         'n_estimators': [150, 200, 250, 300]},\n",
       "             verbose=1)"
      ]
     },
     "execution_count": 53,
     "metadata": {},
     "output_type": "execute_result"
    }
   ],
   "source": [
    "# Hyperparameter Tuning Using GridSearchCV\n",
    "param_dist1 = {'n_estimators':[150,200,250,300],\n",
    "              'bootstrap': [True, False],\n",
    "              'max_features': [1,2,3,5,10],\n",
    "              'max_samples' : [15,20,25,30]}\n",
    "\n",
    "fit_bagging = BaggingClassifier(random_state = 1)\n",
    "\n",
    "cv_bagging = GridSearchCV(fit_bagging, cv = 5, param_grid= param_dist1, n_jobs = -1, verbose = 1)\n",
    "\n",
    "cv_bagging.fit(x_train_sc_df, y_train)"
   ]
  },
  {
   "cell_type": "code",
   "execution_count": 54,
   "id": "9385893c",
   "metadata": {},
   "outputs": [
    {
     "data": {
      "text/plain": [
       "{'bootstrap': True, 'max_features': 5, 'max_samples': 25, 'n_estimators': 200}"
      ]
     },
     "execution_count": 54,
     "metadata": {},
     "output_type": "execute_result"
    }
   ],
   "source": [
    "cv_bagging.best_params_"
   ]
  },
  {
   "cell_type": "code",
   "execution_count": 55,
   "id": "289e3060",
   "metadata": {},
   "outputs": [
    {
     "name": "stdout",
     "output_type": "stream",
     "text": [
      "Train_accuracy 0.9460093896713615\n",
      "Test_accuracy 0.9300699300699301\n"
     ]
    }
   ],
   "source": [
    "bagging = BaggingClassifier(n_estimators=200,max_samples=25, max_features=10, bootstrap=True, random_state=1)\n",
    "bagging.fit(x_train_sc_df, y_train)\n",
    "\n",
    "print('Train_accuracy', bagging.score(x_train_sc_df, y_train))\n",
    "print('Test_accuracy', bagging.score(x_test_sc_df, y_test))"
   ]
  },
  {
   "cell_type": "code",
   "execution_count": 56,
   "id": "e90f65b3",
   "metadata": {},
   "outputs": [
    {
     "data": {
      "image/png": "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\n",
      "text/plain": [
       "<Figure size 640x480 with 1 Axes>"
      ]
     },
     "metadata": {},
     "output_type": "display_data"
    }
   ],
   "source": [
    "y_pred_proba = bagging.predict_proba(x_test_sc_df)[::,1]\n",
    "fpr, tpr, _ = metrics.roc_curve(y_test,  y_pred_proba)\n",
    "auc = metrics.roc_auc_score(y_test, y_pred_proba)\n",
    "plt.plot(fpr,tpr,label=\"data 1, auc=\"+str(auc))\n",
    "plt.legend(loc=4)\n",
    "plt.show()"
   ]
  },
  {
   "cell_type": "code",
   "execution_count": 57,
   "id": "bd90e7d9",
   "metadata": {},
   "outputs": [
    {
     "name": "stderr",
     "output_type": "stream",
     "text": [
      "C:\\Users\\Akkash\\AppData\\Local\\Temp\\ipykernel_4180\\829669450.py:10: FutureWarning: The frame.append method is deprecated and will be removed from pandas in a future version. Use pandas.concat instead.\n",
      "  model_bag_report = model_report.append(tmp2, ignore_index = True)\n"
     ]
    },
    {
     "data": {
      "text/html": [
       "<div>\n",
       "<style scoped>\n",
       "    .dataframe tbody tr th:only-of-type {\n",
       "        vertical-align: middle;\n",
       "    }\n",
       "\n",
       "    .dataframe tbody tr th {\n",
       "        vertical-align: top;\n",
       "    }\n",
       "\n",
       "    .dataframe thead th {\n",
       "        text-align: right;\n",
       "    }\n",
       "</style>\n",
       "<table border=\"1\" class=\"dataframe\">\n",
       "  <thead>\n",
       "    <tr style=\"text-align: right;\">\n",
       "      <th></th>\n",
       "      <th>Model</th>\n",
       "      <th>ROC Score</th>\n",
       "      <th>Precision Score</th>\n",
       "      <th>Recall Score</th>\n",
       "      <th>F1 Score</th>\n",
       "      <th>Accuracy Score</th>\n",
       "    </tr>\n",
       "  </thead>\n",
       "  <tbody>\n",
       "    <tr>\n",
       "      <th>0</th>\n",
       "      <td>Bagging Classifier</td>\n",
       "      <td>0.922727</td>\n",
       "      <td>0.924528</td>\n",
       "      <td>0.890909</td>\n",
       "      <td>0.907407</td>\n",
       "      <td>0.93007</td>\n",
       "    </tr>\n",
       "  </tbody>\n",
       "</table>\n",
       "</div>"
      ],
      "text/plain": [
       "                 Model  ROC Score  Precision Score  Recall Score  F1 Score  \\\n",
       "0  Bagging Classifier    0.922727         0.924528      0.890909  0.907407   \n",
       "\n",
       "   Accuracy Score  \n",
       "0         0.93007  "
      ]
     },
     "execution_count": 57,
     "metadata": {},
     "output_type": "execute_result"
    }
   ],
   "source": [
    "test_pred_bag = bagging.predict(x_test_sc_df)\n",
    "\n",
    "tmp2 = pd.Series({'Model': \"Bagging Classifier \",\n",
    "                 'ROC Score' : metrics.roc_auc_score(y_test, test_pred_bag),\n",
    "                 'Precision Score': metrics.precision_score(y_test, test_pred_bag),\n",
    "                 'Recall Score': metrics.recall_score(y_test, test_pred_bag),\n",
    "                 'F1 Score' : metrics.f1_score(y_test, test_pred_bag),\n",
    "                 'Accuracy Score': metrics.accuracy_score(y_test, test_pred_bag)})\n",
    "\n",
    "model_bag_report = model_report.append(tmp2, ignore_index = True)\n",
    "model_bag_report"
   ]
  },
  {
   "cell_type": "code",
   "execution_count": 58,
   "id": "63d85201",
   "metadata": {},
   "outputs": [
    {
     "name": "stdout",
     "output_type": "stream",
     "text": [
      "Fitting 5 folds for each of 20 candidates, totalling 100 fits\n"
     ]
    },
    {
     "data": {
      "text/html": [
       "<style>#sk-container-id-5 {color: black;background-color: white;}#sk-container-id-5 pre{padding: 0;}#sk-container-id-5 div.sk-toggleable {background-color: white;}#sk-container-id-5 label.sk-toggleable__label {cursor: pointer;display: block;width: 100%;margin-bottom: 0;padding: 0.3em;box-sizing: border-box;text-align: center;}#sk-container-id-5 label.sk-toggleable__label-arrow:before {content: \"▸\";float: left;margin-right: 0.25em;color: #696969;}#sk-container-id-5 label.sk-toggleable__label-arrow:hover:before {color: black;}#sk-container-id-5 div.sk-estimator:hover label.sk-toggleable__label-arrow:before {color: black;}#sk-container-id-5 div.sk-toggleable__content {max-height: 0;max-width: 0;overflow: hidden;text-align: left;background-color: #f0f8ff;}#sk-container-id-5 div.sk-toggleable__content pre {margin: 0.2em;color: black;border-radius: 0.25em;background-color: #f0f8ff;}#sk-container-id-5 input.sk-toggleable__control:checked~div.sk-toggleable__content {max-height: 200px;max-width: 100%;overflow: auto;}#sk-container-id-5 input.sk-toggleable__control:checked~label.sk-toggleable__label-arrow:before {content: \"▾\";}#sk-container-id-5 div.sk-estimator input.sk-toggleable__control:checked~label.sk-toggleable__label {background-color: #d4ebff;}#sk-container-id-5 div.sk-label input.sk-toggleable__control:checked~label.sk-toggleable__label {background-color: #d4ebff;}#sk-container-id-5 input.sk-hidden--visually {border: 0;clip: rect(1px 1px 1px 1px);clip: rect(1px, 1px, 1px, 1px);height: 1px;margin: -1px;overflow: hidden;padding: 0;position: absolute;width: 1px;}#sk-container-id-5 div.sk-estimator {font-family: monospace;background-color: #f0f8ff;border: 1px dotted black;border-radius: 0.25em;box-sizing: border-box;margin-bottom: 0.5em;}#sk-container-id-5 div.sk-estimator:hover {background-color: #d4ebff;}#sk-container-id-5 div.sk-parallel-item::after {content: \"\";width: 100%;border-bottom: 1px solid gray;flex-grow: 1;}#sk-container-id-5 div.sk-label:hover label.sk-toggleable__label {background-color: #d4ebff;}#sk-container-id-5 div.sk-serial::before {content: \"\";position: absolute;border-left: 1px solid gray;box-sizing: border-box;top: 0;bottom: 0;left: 50%;z-index: 0;}#sk-container-id-5 div.sk-serial {display: flex;flex-direction: column;align-items: center;background-color: white;padding-right: 0.2em;padding-left: 0.2em;position: relative;}#sk-container-id-5 div.sk-item {position: relative;z-index: 1;}#sk-container-id-5 div.sk-parallel {display: flex;align-items: stretch;justify-content: center;background-color: white;position: relative;}#sk-container-id-5 div.sk-item::before, #sk-container-id-5 div.sk-parallel-item::before {content: \"\";position: absolute;border-left: 1px solid gray;box-sizing: border-box;top: 0;bottom: 0;left: 50%;z-index: -1;}#sk-container-id-5 div.sk-parallel-item {display: flex;flex-direction: column;z-index: 1;position: relative;background-color: white;}#sk-container-id-5 div.sk-parallel-item:first-child::after {align-self: flex-end;width: 50%;}#sk-container-id-5 div.sk-parallel-item:last-child::after {align-self: flex-start;width: 50%;}#sk-container-id-5 div.sk-parallel-item:only-child::after {width: 0;}#sk-container-id-5 div.sk-dashed-wrapped {border: 1px dashed gray;margin: 0 0.4em 0.5em 0.4em;box-sizing: border-box;padding-bottom: 0.4em;background-color: white;}#sk-container-id-5 div.sk-label label {font-family: monospace;font-weight: bold;display: inline-block;line-height: 1.2em;}#sk-container-id-5 div.sk-label-container {text-align: center;}#sk-container-id-5 div.sk-container {/* jupyter's `normalize.less` sets `[hidden] { display: none; }` but bootstrap.min.css set `[hidden] { display: none !important; }` so we also need the `!important` here to be able to override the default hidden behavior on the sphinx rendered scikit-learn.org. See: https://github.com/scikit-learn/scikit-learn/issues/21755 */display: inline-block !important;position: relative;}#sk-container-id-5 div.sk-text-repr-fallback {display: none;}</style><div id=\"sk-container-id-5\" class=\"sk-top-container\"><div class=\"sk-text-repr-fallback\"><pre>GridSearchCV(cv=5, estimator=AdaBoostClassifier(random_state=1), n_jobs=-1,\n",
       "             param_grid={&#x27;learning_rate&#x27;: [0.5, 0.7, 1, 1.5, 2],\n",
       "                         &#x27;n_estimators&#x27;: [50, 100, 150, 200]},\n",
       "             verbose=1)</pre><b>In a Jupyter environment, please rerun this cell to show the HTML representation or trust the notebook. <br />On GitHub, the HTML representation is unable to render, please try loading this page with nbviewer.org.</b></div><div class=\"sk-container\" hidden><div class=\"sk-item sk-dashed-wrapped\"><div class=\"sk-label-container\"><div class=\"sk-label sk-toggleable\"><input class=\"sk-toggleable__control sk-hidden--visually\" id=\"sk-estimator-id-13\" type=\"checkbox\" ><label for=\"sk-estimator-id-13\" class=\"sk-toggleable__label sk-toggleable__label-arrow\">GridSearchCV</label><div class=\"sk-toggleable__content\"><pre>GridSearchCV(cv=5, estimator=AdaBoostClassifier(random_state=1), n_jobs=-1,\n",
       "             param_grid={&#x27;learning_rate&#x27;: [0.5, 0.7, 1, 1.5, 2],\n",
       "                         &#x27;n_estimators&#x27;: [50, 100, 150, 200]},\n",
       "             verbose=1)</pre></div></div></div><div class=\"sk-parallel\"><div class=\"sk-parallel-item\"><div class=\"sk-item\"><div class=\"sk-label-container\"><div class=\"sk-label sk-toggleable\"><input class=\"sk-toggleable__control sk-hidden--visually\" id=\"sk-estimator-id-14\" type=\"checkbox\" ><label for=\"sk-estimator-id-14\" class=\"sk-toggleable__label sk-toggleable__label-arrow\">estimator: AdaBoostClassifier</label><div class=\"sk-toggleable__content\"><pre>AdaBoostClassifier(random_state=1)</pre></div></div></div><div class=\"sk-serial\"><div class=\"sk-item\"><div class=\"sk-estimator sk-toggleable\"><input class=\"sk-toggleable__control sk-hidden--visually\" id=\"sk-estimator-id-15\" type=\"checkbox\" ><label for=\"sk-estimator-id-15\" class=\"sk-toggleable__label sk-toggleable__label-arrow\">AdaBoostClassifier</label><div class=\"sk-toggleable__content\"><pre>AdaBoostClassifier(random_state=1)</pre></div></div></div></div></div></div></div></div></div></div>"
      ],
      "text/plain": [
       "GridSearchCV(cv=5, estimator=AdaBoostClassifier(random_state=1), n_jobs=-1,\n",
       "             param_grid={'learning_rate': [0.5, 0.7, 1, 1.5, 2],\n",
       "                         'n_estimators': [50, 100, 150, 200]},\n",
       "             verbose=1)"
      ]
     },
     "execution_count": 58,
     "metadata": {},
     "output_type": "execute_result"
    }
   ],
   "source": [
    "# Hyperparameter Tuning Using GridSearchCV\n",
    "param_dist2 = {'n_estimators':[50,100,150,200],\n",
    "               'learning_rate':[0.5,0.7,1,1.5,2]}\n",
    "\n",
    "fit_adaboost = AdaBoostClassifier(random_state = 1)\n",
    "\n",
    "cv_adaboost = GridSearchCV(fit_adaboost, cv = 5, param_grid= param_dist2, n_jobs = -1, verbose = 1)\n",
    "\n",
    "cv_adaboost.fit(x_train_sc_df, y_train)"
   ]
  },
  {
   "cell_type": "code",
   "execution_count": 59,
   "id": "70be72d1",
   "metadata": {},
   "outputs": [
    {
     "data": {
      "text/plain": [
       "{'learning_rate': 1.5, 'n_estimators': 150}"
      ]
     },
     "execution_count": 59,
     "metadata": {},
     "output_type": "execute_result"
    }
   ],
   "source": [
    "cv_adaboost.best_params_"
   ]
  },
  {
   "cell_type": "code",
   "execution_count": 60,
   "id": "3d4ec75d",
   "metadata": {},
   "outputs": [
    {
     "name": "stdout",
     "output_type": "stream",
     "text": [
      "Train_accuracy 1.0\n",
      "Test_accuracy 0.965034965034965\n"
     ]
    }
   ],
   "source": [
    "ABC = AdaBoostClassifier(n_estimators=150,learning_rate=1.5,random_state=1)\n",
    "ABC.fit(x_train_sc_df, y_train)\n",
    "\n",
    "print('Train_accuracy', ABC.score(x_train_sc_df, y_train))\n",
    "print('Test_accuracy', ABC.score(x_test_sc_df, y_test))"
   ]
  },
  {
   "cell_type": "code",
   "execution_count": 61,
   "id": "84a96d20",
   "metadata": {},
   "outputs": [
    {
     "data": {
      "image/png": "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\n",
      "text/plain": [
       "<Figure size 640x480 with 1 Axes>"
      ]
     },
     "metadata": {},
     "output_type": "display_data"
    }
   ],
   "source": [
    "y_pred_proba = ABC.predict_proba(x_test_sc_df)[::,1]\n",
    "fpr, tpr, _ = metrics.roc_curve(y_test,  y_pred_proba)\n",
    "auc = metrics.roc_auc_score(y_test, y_pred_proba)\n",
    "plt.plot(fpr,tpr,label=\"data 1, auc=\"+str(auc))\n",
    "plt.legend(loc=4)\n",
    "plt.show()"
   ]
  },
  {
   "cell_type": "code",
   "execution_count": 62,
   "id": "d8abf9b2",
   "metadata": {},
   "outputs": [
    {
     "name": "stderr",
     "output_type": "stream",
     "text": [
      "C:\\Users\\Akkash\\AppData\\Local\\Temp\\ipykernel_4180\\582002263.py:10: FutureWarning: The frame.append method is deprecated and will be removed from pandas in a future version. Use pandas.concat instead.\n",
      "  model_ABC_report = model_report.append(tmp3, ignore_index = True)\n"
     ]
    },
    {
     "data": {
      "text/html": [
       "<div>\n",
       "<style scoped>\n",
       "    .dataframe tbody tr th:only-of-type {\n",
       "        vertical-align: middle;\n",
       "    }\n",
       "\n",
       "    .dataframe tbody tr th {\n",
       "        vertical-align: top;\n",
       "    }\n",
       "\n",
       "    .dataframe thead th {\n",
       "        text-align: right;\n",
       "    }\n",
       "</style>\n",
       "<table border=\"1\" class=\"dataframe\">\n",
       "  <thead>\n",
       "    <tr style=\"text-align: right;\">\n",
       "      <th></th>\n",
       "      <th>Model</th>\n",
       "      <th>ROC Score</th>\n",
       "      <th>Precision Score</th>\n",
       "      <th>Recall Score</th>\n",
       "      <th>F1 Score</th>\n",
       "      <th>Accuracy Score</th>\n",
       "    </tr>\n",
       "  </thead>\n",
       "  <tbody>\n",
       "    <tr>\n",
       "      <th>0</th>\n",
       "      <td>Adaboost Classifier</td>\n",
       "      <td>0.961364</td>\n",
       "      <td>0.962963</td>\n",
       "      <td>0.945455</td>\n",
       "      <td>0.954128</td>\n",
       "      <td>0.965035</td>\n",
       "    </tr>\n",
       "  </tbody>\n",
       "</table>\n",
       "</div>"
      ],
      "text/plain": [
       "                   Model  ROC Score  Precision Score  Recall Score  F1 Score  \\\n",
       "0   Adaboost Classifier    0.961364         0.962963      0.945455  0.954128   \n",
       "\n",
       "   Accuracy Score  \n",
       "0        0.965035  "
      ]
     },
     "execution_count": 62,
     "metadata": {},
     "output_type": "execute_result"
    }
   ],
   "source": [
    "test_pred_ABC = ABC.predict(x_test_sc_df)\n",
    "\n",
    "tmp3 = pd.Series({'Model': \" Adaboost Classifier \",\n",
    "                 'ROC Score' : metrics.roc_auc_score(y_test, test_pred_ABC),\n",
    "                 'Precision Score': metrics.precision_score(y_test, test_pred_ABC),\n",
    "                 'Recall Score': metrics.recall_score(y_test, test_pred_ABC),\n",
    "                 'F1 Score' : metrics.f1_score(y_test, test_pred_ABC),\n",
    "                 'Accuracy Score': metrics.accuracy_score(y_test, test_pred_ABC)})\n",
    "\n",
    "model_ABC_report = model_report.append(tmp3, ignore_index = True)\n",
    "model_ABC_report"
   ]
  },
  {
   "cell_type": "code",
   "execution_count": 63,
   "id": "53c4fa2d",
   "metadata": {},
   "outputs": [
    {
     "name": "stderr",
     "output_type": "stream",
     "text": [
      "C:\\Users\\Akkash\\AppData\\Local\\Temp\\ipykernel_4180\\810106181.py:3: FutureWarning: The frame.append method is deprecated and will be removed from pandas in a future version. Use pandas.concat instead.\n",
      "  model = model.append([model_svm_report,model_ABC_report,model_rf_report,model_bag_report], ignore_index = True)\n"
     ]
    },
    {
     "data": {
      "text/html": [
       "<div>\n",
       "<style scoped>\n",
       "    .dataframe tbody tr th:only-of-type {\n",
       "        vertical-align: middle;\n",
       "    }\n",
       "\n",
       "    .dataframe tbody tr th {\n",
       "        vertical-align: top;\n",
       "    }\n",
       "\n",
       "    .dataframe thead th {\n",
       "        text-align: right;\n",
       "    }\n",
       "</style>\n",
       "<table border=\"1\" class=\"dataframe\">\n",
       "  <thead>\n",
       "    <tr style=\"text-align: right;\">\n",
       "      <th></th>\n",
       "      <th>Model</th>\n",
       "      <th>ROC Score</th>\n",
       "      <th>Precision Score</th>\n",
       "      <th>Recall Score</th>\n",
       "      <th>F1 Score</th>\n",
       "      <th>Accuracy Score</th>\n",
       "    </tr>\n",
       "  </thead>\n",
       "  <tbody>\n",
       "    <tr>\n",
       "      <th>0</th>\n",
       "      <td>Support Vector Machine</td>\n",
       "      <td>0.957955</td>\n",
       "      <td>0.980769</td>\n",
       "      <td>0.927273</td>\n",
       "      <td>0.953271</td>\n",
       "      <td>0.965035</td>\n",
       "    </tr>\n",
       "    <tr>\n",
       "      <th>1</th>\n",
       "      <td>Adaboost Classifier</td>\n",
       "      <td>0.961364</td>\n",
       "      <td>0.962963</td>\n",
       "      <td>0.945455</td>\n",
       "      <td>0.954128</td>\n",
       "      <td>0.965035</td>\n",
       "    </tr>\n",
       "    <tr>\n",
       "      <th>2</th>\n",
       "      <td>Random Forest Classifier</td>\n",
       "      <td>0.943182</td>\n",
       "      <td>0.961538</td>\n",
       "      <td>0.909091</td>\n",
       "      <td>0.934579</td>\n",
       "      <td>0.951049</td>\n",
       "    </tr>\n",
       "    <tr>\n",
       "      <th>3</th>\n",
       "      <td>Bagging Classifier</td>\n",
       "      <td>0.922727</td>\n",
       "      <td>0.924528</td>\n",
       "      <td>0.890909</td>\n",
       "      <td>0.907407</td>\n",
       "      <td>0.930070</td>\n",
       "    </tr>\n",
       "  </tbody>\n",
       "</table>\n",
       "</div>"
      ],
      "text/plain": [
       "                        Model  ROC Score  Precision Score  Recall Score  \\\n",
       "0     Support Vector Machine    0.957955         0.980769      0.927273   \n",
       "1        Adaboost Classifier    0.961364         0.962963      0.945455   \n",
       "2   Random Forest Classifier    0.943182         0.961538      0.909091   \n",
       "3         Bagging Classifier    0.922727         0.924528      0.890909   \n",
       "\n",
       "   F1 Score  Accuracy Score  \n",
       "0  0.953271        0.965035  \n",
       "1  0.954128        0.965035  \n",
       "2  0.934579        0.951049  \n",
       "3  0.907407        0.930070  "
      ]
     },
     "execution_count": 63,
     "metadata": {},
     "output_type": "execute_result"
    }
   ],
   "source": [
    "cols = ['Model', 'ROC Score', 'Precision Score', 'Recall Score','F1 Score', 'Accuracy Score']\n",
    "model = pd.DataFrame(columns = cols)\n",
    "model = model.append([model_svm_report,model_ABC_report,model_rf_report,model_bag_report], ignore_index = True)\n",
    "model"
   ]
  },
  {
   "cell_type": "code",
   "execution_count": null,
   "id": "34c08380",
   "metadata": {},
   "outputs": [],
   "source": []
  }
 ],
 "metadata": {
  "kernelspec": {
   "display_name": "Python 3 (ipykernel)",
   "language": "python",
   "name": "python3"
  },
  "language_info": {
   "codemirror_mode": {
    "name": "ipython",
    "version": 3
   },
   "file_extension": ".py",
   "mimetype": "text/x-python",
   "name": "python",
   "nbconvert_exporter": "python",
   "pygments_lexer": "ipython3",
   "version": "3.10.9"
  }
 },
 "nbformat": 4,
 "nbformat_minor": 5
}
